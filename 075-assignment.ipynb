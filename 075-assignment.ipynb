{
 "cells": [
  {
   "cell_type": "markdown",
   "metadata": {},
   "source": [
    "<font size=\"+3\"><strong>7.5. Admissions in the MScFE 🎓🗞</strong></font>"
   ]
  },
  {
   "cell_type": "code",
   "execution_count": 31,
   "metadata": {},
   "outputs": [],
   "source": [
    "from pymongo import MongoClient\n",
    "from pymongo.collection import Collection\n",
    "from pprint import PrettyPrinter\n",
    "import random\n",
    "import pandas as pd\n",
    "import plotly.express as px\n",
    "from country_converter import CountryConverter\n",
    "\n",
    "import math\n",
    "import scipy\n",
    "import numpy as np\n",
    "from statsmodels.stats.contingency_tables import Table2x2\n",
    "from statsmodels.stats.power import GofChisquarePower"
   ]
  },
  {
   "cell_type": "code",
   "execution_count": 2,
   "metadata": {},
   "outputs": [
    {
     "name": "stdout",
     "output_type": "stream",
     "text": [
      "ds_app type: <class 'pymongo.synchronous.collection.Collection'>\n"
     ]
    }
   ],
   "source": [
    "client = MongoClient(host=\"localhost\",port=27017)\n",
    "db = client[\"abtest-db\"]\n",
    "mscfe_app = db[\"mscfe-applicants\"]\n",
    "print(\"ds_app type:\", type(mscfe_app))"
   ]
  },
  {
   "cell_type": "code",
   "execution_count": 3,
   "metadata": {},
   "outputs": [
    {
     "name": "stdout",
     "output_type": "stream",
     "text": [
      "result type: <class 'pymongo.synchronous.command_cursor.CommandCursor'>\n",
      "df_nationality type: <class 'pandas.core.frame.DataFrame'>\n",
      "df_nationality shape (100, 2)\n"
     ]
    },
    {
     "data": {
      "text/html": [
       "<div>\n",
       "<style scoped>\n",
       "    .dataframe tbody tr th:only-of-type {\n",
       "        vertical-align: middle;\n",
       "    }\n",
       "\n",
       "    .dataframe tbody tr th {\n",
       "        vertical-align: top;\n",
       "    }\n",
       "\n",
       "    .dataframe thead th {\n",
       "        text-align: right;\n",
       "    }\n",
       "</style>\n",
       "<table border=\"1\" class=\"dataframe\">\n",
       "  <thead>\n",
       "    <tr style=\"text-align: right;\">\n",
       "      <th></th>\n",
       "      <th>country_iso2</th>\n",
       "      <th>count</th>\n",
       "    </tr>\n",
       "  </thead>\n",
       "  <tbody>\n",
       "    <tr>\n",
       "      <th>84</th>\n",
       "      <td>SA</td>\n",
       "      <td>1</td>\n",
       "    </tr>\n",
       "    <tr>\n",
       "      <th>85</th>\n",
       "      <td>HT</td>\n",
       "      <td>1</td>\n",
       "    </tr>\n",
       "    <tr>\n",
       "      <th>58</th>\n",
       "      <td>TH</td>\n",
       "      <td>1</td>\n",
       "    </tr>\n",
       "    <tr>\n",
       "      <th>83</th>\n",
       "      <td>PT</td>\n",
       "      <td>1</td>\n",
       "    </tr>\n",
       "    <tr>\n",
       "      <th>57</th>\n",
       "      <td>PE</td>\n",
       "      <td>1</td>\n",
       "    </tr>\n",
       "  </tbody>\n",
       "</table>\n",
       "</div>"
      ],
      "text/plain": [
       "   country_iso2  count\n",
       "84           SA      1\n",
       "85           HT      1\n",
       "58           TH      1\n",
       "83           PT      1\n",
       "57           PE      1"
      ]
     },
     "execution_count": 3,
     "metadata": {},
     "output_type": "execute_result"
    }
   ],
   "source": [
    "# Aggregate applicants by nationality\n",
    "result = mscfe_app.aggregate(\n",
    "    [\n",
    "        {\n",
    "            \"$group\": {\n",
    "                \"_id\": \"$countryISO2\", \"count\": { \"$count\": {}}\n",
    "            }\n",
    "        }\n",
    "    ]\n",
    ")\n",
    "print(\"result type:\", type(result))\n",
    "\n",
    "# Load result into DataFrame\n",
    "df_nationality = pd.DataFrame(result).rename({\"_id\": \"country_iso2\"}, axis=\"columns\").sort_values(\"count\")\n",
    "print(\"df_nationality type:\", type(df_nationality))\n",
    "print(\"df_nationality shape\", df_nationality.shape)\n",
    "df_nationality.head()"
   ]
  },
  {
   "cell_type": "code",
   "execution_count": 4,
   "metadata": {},
   "outputs": [
    {
     "name": "stdout",
     "output_type": "stream",
     "text": [
      "df_nationality type: <class 'pandas.core.frame.DataFrame'>\n",
      "df_nationality shape (100, 4)\n"
     ]
    },
    {
     "data": {
      "text/html": [
       "<div>\n",
       "<style scoped>\n",
       "    .dataframe tbody tr th:only-of-type {\n",
       "        vertical-align: middle;\n",
       "    }\n",
       "\n",
       "    .dataframe tbody tr th {\n",
       "        vertical-align: top;\n",
       "    }\n",
       "\n",
       "    .dataframe thead th {\n",
       "        text-align: right;\n",
       "    }\n",
       "</style>\n",
       "<table border=\"1\" class=\"dataframe\">\n",
       "  <thead>\n",
       "    <tr style=\"text-align: right;\">\n",
       "      <th></th>\n",
       "      <th>country_iso2</th>\n",
       "      <th>count</th>\n",
       "      <th>country_name</th>\n",
       "      <th>country_iso3</th>\n",
       "    </tr>\n",
       "  </thead>\n",
       "  <tbody>\n",
       "    <tr>\n",
       "      <th>84</th>\n",
       "      <td>SA</td>\n",
       "      <td>1</td>\n",
       "      <td>Saudi Arabia</td>\n",
       "      <td>SAU</td>\n",
       "    </tr>\n",
       "    <tr>\n",
       "      <th>85</th>\n",
       "      <td>HT</td>\n",
       "      <td>1</td>\n",
       "      <td>Haiti</td>\n",
       "      <td>HTI</td>\n",
       "    </tr>\n",
       "    <tr>\n",
       "      <th>58</th>\n",
       "      <td>TH</td>\n",
       "      <td>1</td>\n",
       "      <td>Thailand</td>\n",
       "      <td>THA</td>\n",
       "    </tr>\n",
       "    <tr>\n",
       "      <th>83</th>\n",
       "      <td>PT</td>\n",
       "      <td>1</td>\n",
       "      <td>Portugal</td>\n",
       "      <td>PRT</td>\n",
       "    </tr>\n",
       "    <tr>\n",
       "      <th>57</th>\n",
       "      <td>PE</td>\n",
       "      <td>1</td>\n",
       "      <td>Peru</td>\n",
       "      <td>PER</td>\n",
       "    </tr>\n",
       "  </tbody>\n",
       "</table>\n",
       "</div>"
      ],
      "text/plain": [
       "   country_iso2  count  country_name country_iso3\n",
       "84           SA      1  Saudi Arabia          SAU\n",
       "85           HT      1         Haiti          HTI\n",
       "58           TH      1      Thailand          THA\n",
       "83           PT      1      Portugal          PRT\n",
       "57           PE      1          Peru          PER"
      ]
     },
     "execution_count": 4,
     "metadata": {},
     "output_type": "execute_result"
    }
   ],
   "source": [
    "# Instantiate `CountryConverter`\n",
    "cc = CountryConverter()\n",
    "\n",
    "# Create `\"country_name\"` column\n",
    "df_nationality[\"country_name\"] = cc.convert(\n",
    "    df_nationality[\"country_iso2\"], to=\"name_short\"\n",
    ")\n",
    "\n",
    "# Create `\"country_iso3\"` column\n",
    "df_nationality[\"country_iso3\"] = cc.convert(df_nationality[\"country_iso2\"], to=\"ISO3\")\n",
    "\n",
    "print(\"df_nationality type:\", type(df_nationality))\n",
    "print(\"df_nationality shape\", df_nationality.shape)\n",
    "df_nationality.head()"
   ]
  },
  {
   "cell_type": "code",
   "execution_count": 6,
   "metadata": {},
   "outputs": [
    {
     "data": {
      "application/vnd.plotly.v1+json": {
       "config": {
        "plotlyServerURL": "https://plot.ly"
       },
       "data": [
        {
         "coloraxis": "coloraxis",
         "geo": "geo",
         "hovertemplate": "country_iso3=%{location}<br>count_pct=%{z}<extra></extra>",
         "locations": [
          "SAU",
          "HTI",
          "THA",
          "PRT",
          "PER",
          "GAB",
          "ITA",
          "NLD",
          "LAO",
          "JPN",
          "COD",
          "BEL",
          "YEM",
          "AUS",
          "BRB",
          "SRB",
          "DZA",
          "MOZ",
          "TWN",
          "WSM",
          "GMB",
          "CAF",
          "CHE",
          "MUS",
          "SEN",
          "COL",
          "QAT",
          "AGO",
          "GTM",
          "GUY",
          "ERI",
          "GRC",
          "ALB",
          "DEU",
          "KOR",
          "MDG",
          "KGZ",
          "ESP",
          "POL",
          "FJI",
          "HKG",
          "ARG",
          "ALA",
          "SDN",
          "SWZ",
          "ROU",
          "BTN",
          "BFA",
          "UZB",
          "NER",
          "BRA",
          "TUN",
          "IOT",
          "BLZ",
          "BWA",
          "AZE",
          "MEX",
          "LBY",
          "SGP",
          "MAR",
          "TCD",
          "TGO",
          "CIV",
          "MMR",
          "GBR",
          "MYS",
          "RUS",
          "SSD",
          "CAN",
          "BEN",
          "SLE",
          "EGY",
          "LKA",
          "IRQ",
          "RWA",
          "TUR",
          "LBR",
          "LSO",
          "SOM",
          "VNM",
          "IDN",
          "UGA",
          "CHN",
          "AFG",
          "CMR",
          "TZA",
          "ZMB",
          "MWI",
          "ZWE",
          "USA",
          "ZAF",
          "NPL",
          "PHL",
          "GHA",
          "ETH",
          "BGD",
          "KEN",
          "IND",
          "PAK",
          "NGA"
         ],
         "name": "",
         "type": "choropleth",
         "z": {
          "bdata": "M0G0TBAtsz8zQbRMEC2zPzNBtEwQLbM/M0G0TBAtsz8zQbRMEC2zPzNBtEwQLbM/M0G0TBAtsz8zQbRMEC2zPzNBtEwQLbM/M0G0TBAtsz8zQbRMEC2zPzNBtEwQLbM/M0G0TBAtsz8zQbRMEC2zPzNBtEwQLbM/M0G0TBAtsz8zQbRMEC2zPzNBtEwQLbM/M0G0TBAtsz8zQbRMEC2zPzNBtEwQLbM/M0G0TBAtsz8zQbRMEC2zPzNBtEwQLbM/M0G0TBAtsz8zQbRMEC2zPzNBtEwQLbM/M0G0TBAtsz8zQbRMEC2zPzNBtEwQLbM/M0G0TBAtwz8zQbRMEC3DPzNBtEwQLcM/M0G0TBAtwz8zQbRMEC3DPzNBtEwQLcM/M0G0TBAtwz8zQbRMEC3DPzNBtEwQLcM/M0G0TBAtwz8zQbRMEC3DPzNBtEwQLcM/M0G0TBAtwz8zQbRMEC3DPzNBtEwQLcM/M0G0TBAtwz8zQbRMEC3DPzNBtEwQLcM/M0G0TBAtwz8zQbRMEC3DPzNBtEwQLcM/M0G0TBAtwz8zQbRMEC3DPzNBtEwQLcM/zWEOc5jDzD/NYQ5zmMPMP81hDnOYw8w/zWEOc5jDzD8zQbRMEC3TPzNBtEwQLdM/M0G0TBAt0z8zQbRMEC3TPzNBtEwQLdM/M0G0TBAt0z+AUeFfVPjXP4BR4V9U+Nc/gFHhX1T41z+AUeFfVPjXP4BR4V9U+Nc/zWEOc5jD3D/NYQ5zmMPcPw25HUNux+A/M0G0TBAt4z8zQbRMEC3jP1nJSlaykuU/WclKVrKS5T+AUeFfVPjnP4BR4V9U+Oc/ptl3afZd6j+m2Xdp9l3qP/LppHw6Ke8/8umkfDop7z/y6aR8OinvPyD96Ec/+vE/IP3oRz/68T8zQbRMEC3zPzNBtEwQLfM/RoV/UeFf9D+m2Xdp9l36P7kdQ27HkPs/uR1DbseQ+z/gpdl3afb9P1nJSlaykgVAptl3afZdCkA4EueNxHkTQEaFf1HhXxRAdq973eteF0BBtEwQLRMkQEpWspKVrCRASD/60Y9+OEA=",
          "dtype": "f8"
         }
        }
       ],
       "layout": {
        "coloraxis": {
         "colorbar": {
          "title": {
           "text": "count_pct"
          }
         },
         "colorscale": [
          [
           0,
           "rgb(255,245,235)"
          ],
          [
           0.125,
           "rgb(254,230,206)"
          ],
          [
           0.25,
           "rgb(253,208,162)"
          ],
          [
           0.375,
           "rgb(253,174,107)"
          ],
          [
           0.5,
           "rgb(253,141,60)"
          ],
          [
           0.625,
           "rgb(241,105,19)"
          ],
          [
           0.75,
           "rgb(217,72,1)"
          ],
          [
           0.875,
           "rgb(166,54,3)"
          ],
          [
           1,
           "rgb(127,39,4)"
          ]
         ]
        },
        "geo": {
         "center": {},
         "domain": {
          "x": [
           0,
           1
          ],
          "y": [
           0,
           1
          ]
         },
         "projection": {
          "type": "natural earth"
         }
        },
        "legend": {
         "tracegroupgap": 0
        },
        "template": {
         "data": {
          "bar": [
           {
            "error_x": {
             "color": "#2a3f5f"
            },
            "error_y": {
             "color": "#2a3f5f"
            },
            "marker": {
             "line": {
              "color": "#E5ECF6",
              "width": 0.5
             },
             "pattern": {
              "fillmode": "overlay",
              "size": 10,
              "solidity": 0.2
             }
            },
            "type": "bar"
           }
          ],
          "barpolar": [
           {
            "marker": {
             "line": {
              "color": "#E5ECF6",
              "width": 0.5
             },
             "pattern": {
              "fillmode": "overlay",
              "size": 10,
              "solidity": 0.2
             }
            },
            "type": "barpolar"
           }
          ],
          "carpet": [
           {
            "aaxis": {
             "endlinecolor": "#2a3f5f",
             "gridcolor": "white",
             "linecolor": "white",
             "minorgridcolor": "white",
             "startlinecolor": "#2a3f5f"
            },
            "baxis": {
             "endlinecolor": "#2a3f5f",
             "gridcolor": "white",
             "linecolor": "white",
             "minorgridcolor": "white",
             "startlinecolor": "#2a3f5f"
            },
            "type": "carpet"
           }
          ],
          "choropleth": [
           {
            "colorbar": {
             "outlinewidth": 0,
             "ticks": ""
            },
            "type": "choropleth"
           }
          ],
          "contour": [
           {
            "colorbar": {
             "outlinewidth": 0,
             "ticks": ""
            },
            "colorscale": [
             [
              0,
              "#0d0887"
             ],
             [
              0.1111111111111111,
              "#46039f"
             ],
             [
              0.2222222222222222,
              "#7201a8"
             ],
             [
              0.3333333333333333,
              "#9c179e"
             ],
             [
              0.4444444444444444,
              "#bd3786"
             ],
             [
              0.5555555555555556,
              "#d8576b"
             ],
             [
              0.6666666666666666,
              "#ed7953"
             ],
             [
              0.7777777777777778,
              "#fb9f3a"
             ],
             [
              0.8888888888888888,
              "#fdca26"
             ],
             [
              1,
              "#f0f921"
             ]
            ],
            "type": "contour"
           }
          ],
          "contourcarpet": [
           {
            "colorbar": {
             "outlinewidth": 0,
             "ticks": ""
            },
            "type": "contourcarpet"
           }
          ],
          "heatmap": [
           {
            "colorbar": {
             "outlinewidth": 0,
             "ticks": ""
            },
            "colorscale": [
             [
              0,
              "#0d0887"
             ],
             [
              0.1111111111111111,
              "#46039f"
             ],
             [
              0.2222222222222222,
              "#7201a8"
             ],
             [
              0.3333333333333333,
              "#9c179e"
             ],
             [
              0.4444444444444444,
              "#bd3786"
             ],
             [
              0.5555555555555556,
              "#d8576b"
             ],
             [
              0.6666666666666666,
              "#ed7953"
             ],
             [
              0.7777777777777778,
              "#fb9f3a"
             ],
             [
              0.8888888888888888,
              "#fdca26"
             ],
             [
              1,
              "#f0f921"
             ]
            ],
            "type": "heatmap"
           }
          ],
          "histogram": [
           {
            "marker": {
             "pattern": {
              "fillmode": "overlay",
              "size": 10,
              "solidity": 0.2
             }
            },
            "type": "histogram"
           }
          ],
          "histogram2d": [
           {
            "colorbar": {
             "outlinewidth": 0,
             "ticks": ""
            },
            "colorscale": [
             [
              0,
              "#0d0887"
             ],
             [
              0.1111111111111111,
              "#46039f"
             ],
             [
              0.2222222222222222,
              "#7201a8"
             ],
             [
              0.3333333333333333,
              "#9c179e"
             ],
             [
              0.4444444444444444,
              "#bd3786"
             ],
             [
              0.5555555555555556,
              "#d8576b"
             ],
             [
              0.6666666666666666,
              "#ed7953"
             ],
             [
              0.7777777777777778,
              "#fb9f3a"
             ],
             [
              0.8888888888888888,
              "#fdca26"
             ],
             [
              1,
              "#f0f921"
             ]
            ],
            "type": "histogram2d"
           }
          ],
          "histogram2dcontour": [
           {
            "colorbar": {
             "outlinewidth": 0,
             "ticks": ""
            },
            "colorscale": [
             [
              0,
              "#0d0887"
             ],
             [
              0.1111111111111111,
              "#46039f"
             ],
             [
              0.2222222222222222,
              "#7201a8"
             ],
             [
              0.3333333333333333,
              "#9c179e"
             ],
             [
              0.4444444444444444,
              "#bd3786"
             ],
             [
              0.5555555555555556,
              "#d8576b"
             ],
             [
              0.6666666666666666,
              "#ed7953"
             ],
             [
              0.7777777777777778,
              "#fb9f3a"
             ],
             [
              0.8888888888888888,
              "#fdca26"
             ],
             [
              1,
              "#f0f921"
             ]
            ],
            "type": "histogram2dcontour"
           }
          ],
          "mesh3d": [
           {
            "colorbar": {
             "outlinewidth": 0,
             "ticks": ""
            },
            "type": "mesh3d"
           }
          ],
          "parcoords": [
           {
            "line": {
             "colorbar": {
              "outlinewidth": 0,
              "ticks": ""
             }
            },
            "type": "parcoords"
           }
          ],
          "pie": [
           {
            "automargin": true,
            "type": "pie"
           }
          ],
          "scatter": [
           {
            "fillpattern": {
             "fillmode": "overlay",
             "size": 10,
             "solidity": 0.2
            },
            "type": "scatter"
           }
          ],
          "scatter3d": [
           {
            "line": {
             "colorbar": {
              "outlinewidth": 0,
              "ticks": ""
             }
            },
            "marker": {
             "colorbar": {
              "outlinewidth": 0,
              "ticks": ""
             }
            },
            "type": "scatter3d"
           }
          ],
          "scattercarpet": [
           {
            "marker": {
             "colorbar": {
              "outlinewidth": 0,
              "ticks": ""
             }
            },
            "type": "scattercarpet"
           }
          ],
          "scattergeo": [
           {
            "marker": {
             "colorbar": {
              "outlinewidth": 0,
              "ticks": ""
             }
            },
            "type": "scattergeo"
           }
          ],
          "scattergl": [
           {
            "marker": {
             "colorbar": {
              "outlinewidth": 0,
              "ticks": ""
             }
            },
            "type": "scattergl"
           }
          ],
          "scattermap": [
           {
            "marker": {
             "colorbar": {
              "outlinewidth": 0,
              "ticks": ""
             }
            },
            "type": "scattermap"
           }
          ],
          "scattermapbox": [
           {
            "marker": {
             "colorbar": {
              "outlinewidth": 0,
              "ticks": ""
             }
            },
            "type": "scattermapbox"
           }
          ],
          "scatterpolar": [
           {
            "marker": {
             "colorbar": {
              "outlinewidth": 0,
              "ticks": ""
             }
            },
            "type": "scatterpolar"
           }
          ],
          "scatterpolargl": [
           {
            "marker": {
             "colorbar": {
              "outlinewidth": 0,
              "ticks": ""
             }
            },
            "type": "scatterpolargl"
           }
          ],
          "scatterternary": [
           {
            "marker": {
             "colorbar": {
              "outlinewidth": 0,
              "ticks": ""
             }
            },
            "type": "scatterternary"
           }
          ],
          "surface": [
           {
            "colorbar": {
             "outlinewidth": 0,
             "ticks": ""
            },
            "colorscale": [
             [
              0,
              "#0d0887"
             ],
             [
              0.1111111111111111,
              "#46039f"
             ],
             [
              0.2222222222222222,
              "#7201a8"
             ],
             [
              0.3333333333333333,
              "#9c179e"
             ],
             [
              0.4444444444444444,
              "#bd3786"
             ],
             [
              0.5555555555555556,
              "#d8576b"
             ],
             [
              0.6666666666666666,
              "#ed7953"
             ],
             [
              0.7777777777777778,
              "#fb9f3a"
             ],
             [
              0.8888888888888888,
              "#fdca26"
             ],
             [
              1,
              "#f0f921"
             ]
            ],
            "type": "surface"
           }
          ],
          "table": [
           {
            "cells": {
             "fill": {
              "color": "#EBF0F8"
             },
             "line": {
              "color": "white"
             }
            },
            "header": {
             "fill": {
              "color": "#C8D4E3"
             },
             "line": {
              "color": "white"
             }
            },
            "type": "table"
           }
          ]
         },
         "layout": {
          "annotationdefaults": {
           "arrowcolor": "#2a3f5f",
           "arrowhead": 0,
           "arrowwidth": 1
          },
          "autotypenumbers": "strict",
          "coloraxis": {
           "colorbar": {
            "outlinewidth": 0,
            "ticks": ""
           }
          },
          "colorscale": {
           "diverging": [
            [
             0,
             "#8e0152"
            ],
            [
             0.1,
             "#c51b7d"
            ],
            [
             0.2,
             "#de77ae"
            ],
            [
             0.3,
             "#f1b6da"
            ],
            [
             0.4,
             "#fde0ef"
            ],
            [
             0.5,
             "#f7f7f7"
            ],
            [
             0.6,
             "#e6f5d0"
            ],
            [
             0.7,
             "#b8e186"
            ],
            [
             0.8,
             "#7fbc41"
            ],
            [
             0.9,
             "#4d9221"
            ],
            [
             1,
             "#276419"
            ]
           ],
           "sequential": [
            [
             0,
             "#0d0887"
            ],
            [
             0.1111111111111111,
             "#46039f"
            ],
            [
             0.2222222222222222,
             "#7201a8"
            ],
            [
             0.3333333333333333,
             "#9c179e"
            ],
            [
             0.4444444444444444,
             "#bd3786"
            ],
            [
             0.5555555555555556,
             "#d8576b"
            ],
            [
             0.6666666666666666,
             "#ed7953"
            ],
            [
             0.7777777777777778,
             "#fb9f3a"
            ],
            [
             0.8888888888888888,
             "#fdca26"
            ],
            [
             1,
             "#f0f921"
            ]
           ],
           "sequentialminus": [
            [
             0,
             "#0d0887"
            ],
            [
             0.1111111111111111,
             "#46039f"
            ],
            [
             0.2222222222222222,
             "#7201a8"
            ],
            [
             0.3333333333333333,
             "#9c179e"
            ],
            [
             0.4444444444444444,
             "#bd3786"
            ],
            [
             0.5555555555555556,
             "#d8576b"
            ],
            [
             0.6666666666666666,
             "#ed7953"
            ],
            [
             0.7777777777777778,
             "#fb9f3a"
            ],
            [
             0.8888888888888888,
             "#fdca26"
            ],
            [
             1,
             "#f0f921"
            ]
           ]
          },
          "colorway": [
           "#636efa",
           "#EF553B",
           "#00cc96",
           "#ab63fa",
           "#FFA15A",
           "#19d3f3",
           "#FF6692",
           "#B6E880",
           "#FF97FF",
           "#FECB52"
          ],
          "font": {
           "color": "#2a3f5f"
          },
          "geo": {
           "bgcolor": "white",
           "lakecolor": "white",
           "landcolor": "#E5ECF6",
           "showlakes": true,
           "showland": true,
           "subunitcolor": "white"
          },
          "hoverlabel": {
           "align": "left"
          },
          "hovermode": "closest",
          "mapbox": {
           "style": "light"
          },
          "paper_bgcolor": "white",
          "plot_bgcolor": "#E5ECF6",
          "polar": {
           "angularaxis": {
            "gridcolor": "white",
            "linecolor": "white",
            "ticks": ""
           },
           "bgcolor": "#E5ECF6",
           "radialaxis": {
            "gridcolor": "white",
            "linecolor": "white",
            "ticks": ""
           }
          },
          "scene": {
           "xaxis": {
            "backgroundcolor": "#E5ECF6",
            "gridcolor": "white",
            "gridwidth": 2,
            "linecolor": "white",
            "showbackground": true,
            "ticks": "",
            "zerolinecolor": "white"
           },
           "yaxis": {
            "backgroundcolor": "#E5ECF6",
            "gridcolor": "white",
            "gridwidth": 2,
            "linecolor": "white",
            "showbackground": true,
            "ticks": "",
            "zerolinecolor": "white"
           },
           "zaxis": {
            "backgroundcolor": "#E5ECF6",
            "gridcolor": "white",
            "gridwidth": 2,
            "linecolor": "white",
            "showbackground": true,
            "ticks": "",
            "zerolinecolor": "white"
           }
          },
          "shapedefaults": {
           "line": {
            "color": "#2a3f5f"
           }
          },
          "ternary": {
           "aaxis": {
            "gridcolor": "white",
            "linecolor": "white",
            "ticks": ""
           },
           "baxis": {
            "gridcolor": "white",
            "linecolor": "white",
            "ticks": ""
           },
           "bgcolor": "#E5ECF6",
           "caxis": {
            "gridcolor": "white",
            "linecolor": "white",
            "ticks": ""
           }
          },
          "title": {
           "x": 0.05
          },
          "xaxis": {
           "automargin": true,
           "gridcolor": "white",
           "linecolor": "white",
           "ticks": "",
           "title": {
            "standoff": 15
           },
           "zerolinecolor": "white",
           "zerolinewidth": 2
          },
          "yaxis": {
           "automargin": true,
           "gridcolor": "white",
           "linecolor": "white",
           "ticks": "",
           "title": {
            "standoff": 15
           },
           "zerolinecolor": "white",
           "zerolinewidth": 2
          }
         }
        },
        "title": {
         "text": "MScFE Applicants: Nationalities"
        }
       }
      },
      "image/png": "[encoded data removed]"
     },
     "metadata": {},
     "output_type": "display_data"
    }
   ],
   "source": [
    "df_nationality[\"count_pct\"] = (\n",
    "    (df_nationality[\"count\"] / df_nationality[\"count\"].sum()) * 100\n",
    ")\n",
    "# Create `build_nat_choropleth` function\n",
    "def build_nat_choropleth():\n",
    "    fig = px.choropleth(\n",
    "        data_frame=df_nationality,\n",
    "        locations=\"country_iso3\",\n",
    "        color=\"count_pct\",\n",
    "        projection=\"natural earth\",\n",
    "        color_continuous_scale=px.colors.sequential.Oranges,\n",
    "        title=\"MScFE Applicants: Nationalities\"\n",
    "    )\n",
    "    return fig\n",
    "\n",
    "\n",
    "nat_fig = build_nat_choropleth()\n",
    "nat_fig.show()"
   ]
  },
  {
   "cell_type": "code",
   "execution_count": 46,
   "metadata": {},
   "outputs": [],
   "source": [
    "class MongoRepository:\n",
    "    \"\"\"Repository class for interacting with MongoDB database.\n",
    "\n",
    "    Parameters\n",
    "    ----------\n",
    "    client : `pymongo.MongoClient`\n",
    "        By default, `MongoClient(host='localhost', port=27017)`.\n",
    "    db : str\n",
    "        By default, `'wqu-abtest'`.\n",
    "    collection : str\n",
    "        By default, `'mscfe-applicants'`.\n",
    "\n",
    "    Attributes\n",
    "    ----------\n",
    "    collection : pymongo.collection.Collection\n",
    "        All data will be extracted from and loaded to this collection.\n",
    "    \"\"\"\n",
    "    def __init__(\n",
    "        self,\n",
    "        client=MongoClient(host=\"localhost\",port=27017),\n",
    "        db=\"abtest-db\",\n",
    "        collection=\"mscfe-applicants-after-experiment\" #changes before and after experiment\n",
    "    ):\n",
    "        self.collection = client[db][collection]\n",
    "\n",
    "    def find_by_date(self, date_string):\n",
    "        \"\"\"Find records in a PyMongo Collection created on a given date.\n",
    "    \n",
    "        Parameters\n",
    "        ----------\n",
    "        collection : pymongo.collection.Collection\n",
    "            Collection in which to search for documents.\n",
    "        date_string : str\n",
    "            Date to query. Format must be '%Y-%m-%d', e.g. '2022-06-28'.\n",
    "    \n",
    "        Returns\n",
    "        -------\n",
    "        observations : list\n",
    "            Result of query. List of documents (dictionaries).\n",
    "        \"\"\"\n",
    "        # Convert `date_string` to datetime object\n",
    "        start = pd.to_datetime(date_string, format=\"%Y-%m-%d\")\n",
    "        end = start + pd.DateOffset(days=1)\n",
    "    \n",
    "        # Try both string and datetime query to handle both cases\n",
    "        start_str = start.strftime(\"%Y-%m-%dT%H:%M:%S\")\n",
    "        end_str = end.strftime(\"%Y-%m-%dT%H:%M:%S\")\n",
    "    \n",
    "        # Build OR query to match both possible types\n",
    "        query = {\n",
    "            \"$and\": [\n",
    "                { \"admissionsQuiz\": \"incomplete\" },\n",
    "                {\n",
    "                    \"$or\": [\n",
    "                        { \"createdAt\": { \"$gte\": start, \"$lt\": end } },        # if createdAt is stored as datetime\n",
    "                        { \"createdAt\": { \"$gte\": start_str, \"$lt\": end_str } } # if createdAt is stored as string\n",
    "                    ]\n",
    "                }\n",
    "            ]\n",
    "        }\n",
    "    \n",
    "        result = self.collection.find(query)\n",
    "        observations = list(result)\n",
    "    \n",
    "        return observations\n",
    "\n",
    "    def update_applicants(self, observations_assigned):\n",
    "        \"\"\"Update applicant documents in collection.\n",
    "    \n",
    "        Parameters\n",
    "        ----------\n",
    "        collection : pymongo.collection.Collection\n",
    "            Collection in which documents will be updated.\n",
    "    \n",
    "        observations_assigned : list\n",
    "            Documents that will be used to update collection\n",
    "    \n",
    "        Returns\n",
    "        -------\n",
    "        transaction_result : dict\n",
    "            Status of update operation, including number of documents\n",
    "            and number of documents modified.\n",
    "        \"\"\"\n",
    "        n =0\n",
    "        n_modified=0\n",
    "        \n",
    "        for doc in observations_assigned: \n",
    "            result = self.collection.update_one(\n",
    "                filter={\"_id\": doc[\"_id\"]},\n",
    "                update={\"$set\": doc}\n",
    "            )\n",
    "            n+= result.matched_count\n",
    "            n_modified+= result.modified_count\n",
    "        transaction_result = {\"n\": n, \"nModified\": n_modified}\n",
    "        \n",
    "        return transaction_result\n",
    "\n",
    "    def assign_to_groups(self,date_string):\n",
    "        \"\"\"Randomly assigns observations to control and treatment groups.\n",
    "\n",
    "        Parameters\n",
    "        ----------\n",
    "        observations : list or pymongo.cursor.Cursor\n",
    "            List of users to assign to groups.\n",
    "\n",
    "        Returns\n",
    "        -------\n",
    "        observations : list\n",
    "            List of documents from `observations` with two additional keys:\n",
    "            `inExperiment` and `group`.\n",
    "        \"\"\"\n",
    "        observations = self.find_by_date(date_string)\n",
    "\n",
    "        # Shuffle `observations`\n",
    "        random.seed(42)\n",
    "        random.shuffle(observations)\n",
    "        # Get index position of item at observations halfway point\n",
    "        idx = len(observations)//2\n",
    "\n",
    "        # Assign first half of observations to control group\n",
    "        for doc in observations[:idx]:\n",
    "            doc[\"inExperiment\"] = True\n",
    "            doc[\"group\"] = \"no email (control)\"\n",
    "\n",
    "        # Assign second half of observations to treatment group      \n",
    "        for doc in observations[idx:]:\n",
    "            doc[\"inExperiment\"] = True\n",
    "            doc[\"group\"] = \"email (treatment)\"\n",
    "        \n",
    "        result = self.update_applicants(observations);\n",
    "\n",
    "        return result\n",
    "    \n",
    "    def find_exp_observations(self): \n",
    "        results= self.collection.find({\"inExperiment\": True})\n",
    "        observations = list(results);\n",
    "        return observations;\n",
    "    "
   ]
  },
  {
   "cell_type": "code",
   "execution_count": 47,
   "metadata": {},
   "outputs": [
    {
     "name": "stdout",
     "output_type": "stream",
     "text": [
      "repo type: <class '__main__.MongoRepository'>\n"
     ]
    },
    {
     "data": {
      "text/plain": [
       "<__main__.MongoRepository at 0x298dc0490>"
      ]
     },
     "execution_count": 47,
     "metadata": {},
     "output_type": "execute_result"
    }
   ],
   "source": [
    "repo = MongoRepository()\n",
    "print(\"repo type:\", type(repo))\n",
    "repo"
   ]
  },
  {
   "cell_type": "code",
   "execution_count": 48,
   "metadata": {},
   "outputs": [
    {
     "data": {
      "text/plain": [
       "[{'_id': '684bf8e20f889962e2a05e23',\n",
       "  'createdAt': '2022-06-01T22:07:18',\n",
       "  'firstName': 'Gail',\n",
       "  'lastName': 'Weaver',\n",
       "  'email': 'gail.weaver31@hotmeal.com',\n",
       "  'birthday': '1996-01-10T00:00:00',\n",
       "  'gender': 'female',\n",
       "  'highestDegreeEarned': \"Master's degree\",\n",
       "  'countryISO2': 'SG',\n",
       "  'admissionsQuiz': 'incomplete'},\n",
       " {'_id': '684bf8e20f889962e2a05e4c',\n",
       "  'createdAt': '2022-06-01T05:30:35',\n",
       "  'firstName': 'Clint',\n",
       "  'lastName': 'Zimmerman',\n",
       "  'email': 'clint.zimmerman78@hotmeal.com',\n",
       "  'birthday': '1987-03-11T00:00:00',\n",
       "  'gender': 'male',\n",
       "  'highestDegreeEarned': \"Master's degree\",\n",
       "  'countryISO2': 'GH',\n",
       "  'admissionsQuiz': 'incomplete'},\n",
       " {'_id': '684bf8e20f889962e2a05e75',\n",
       "  'createdAt': '2022-06-01T22:20:04',\n",
       "  'firstName': 'Nicholas',\n",
       "  'lastName': 'Leon',\n",
       "  'email': 'nicholas.leon30@gmall.com',\n",
       "  'birthday': '1962-08-08T00:00:00',\n",
       "  'gender': 'male',\n",
       "  'highestDegreeEarned': \"Bachelor's degree\",\n",
       "  'countryISO2': 'PK',\n",
       "  'admissionsQuiz': 'incomplete'},\n",
       " {'_id': '684bf8e20f889962e2a05e90',\n",
       "  'createdAt': '2022-06-01T13:33:08',\n",
       "  'firstName': 'Lisa',\n",
       "  'lastName': 'Rivera',\n",
       "  'email': 'lisa.rivera19@hotmeal.com',\n",
       "  'birthday': '1999-01-10T00:00:00',\n",
       "  'gender': 'female',\n",
       "  'highestDegreeEarned': \"Bachelor's degree\",\n",
       "  'countryISO2': 'NG',\n",
       "  'admissionsQuiz': 'incomplete'},\n",
       " {'_id': '684bf8e20f889962e2a05ebf',\n",
       "  'createdAt': '2022-06-01T05:34:53',\n",
       "  'firstName': 'Brian',\n",
       "  'lastName': 'Lacroix',\n",
       "  'email': 'brian.lacroix81@yahow.com',\n",
       "  'birthday': '2004-01-13T00:00:00',\n",
       "  'gender': 'male',\n",
       "  'highestDegreeEarned': \"Bachelor's degree\",\n",
       "  'countryISO2': 'SS',\n",
       "  'admissionsQuiz': 'incomplete'},\n",
       " {'_id': '684bf8e20f889962e2a05f08',\n",
       "  'createdAt': '2022-06-01T03:49:49',\n",
       "  'firstName': 'Debra',\n",
       "  'lastName': 'Kettner',\n",
       "  'email': 'debra.kettner53@yahow.com',\n",
       "  'birthday': '1984-08-09T00:00:00',\n",
       "  'gender': 'female',\n",
       "  'highestDegreeEarned': \"Bachelor's degree\",\n",
       "  'countryISO2': 'CI',\n",
       "  'admissionsQuiz': 'incomplete'},\n",
       " {'_id': '684bf8e20f889962e2a05f3a',\n",
       "  'createdAt': '2022-06-01T02:38:48',\n",
       "  'firstName': 'Alejandro',\n",
       "  'lastName': 'Castleman',\n",
       "  'email': 'alejandro.castleman47@microsift.com',\n",
       "  'birthday': '1999-03-31T00:00:00',\n",
       "  'gender': 'male',\n",
       "  'highestDegreeEarned': 'High School or Baccalaureate',\n",
       "  'countryISO2': 'PK',\n",
       "  'admissionsQuiz': 'incomplete'},\n",
       " {'_id': '684bf8e20f889962e2a05f5f',\n",
       "  'createdAt': '2022-06-01T23:05:13',\n",
       "  'firstName': 'Everette',\n",
       "  'lastName': 'Howdeshell',\n",
       "  'email': 'everette.howdeshell73@microsift.com',\n",
       "  'birthday': '1995-11-10T00:00:00',\n",
       "  'gender': 'male',\n",
       "  'highestDegreeEarned': 'High School or Baccalaureate',\n",
       "  'countryISO2': 'TZ',\n",
       "  'admissionsQuiz': 'incomplete'},\n",
       " {'_id': '684bf8e20f889962e2a05f75',\n",
       "  'createdAt': '2022-06-01T08:23:26',\n",
       "  'firstName': 'Brandon',\n",
       "  'lastName': 'Duty',\n",
       "  'email': 'brandon.duty93@hotmeal.com',\n",
       "  'birthday': '1995-12-08T00:00:00',\n",
       "  'gender': 'male',\n",
       "  'highestDegreeEarned': \"Master's degree\",\n",
       "  'countryISO2': 'BD',\n",
       "  'admissionsQuiz': 'incomplete'},\n",
       " {'_id': '684bf8e20f889962e2a05fae',\n",
       "  'createdAt': '2022-06-01T08:48:10',\n",
       "  'firstName': 'Dorothy',\n",
       "  'lastName': 'Belk',\n",
       "  'email': 'dorothy.belk85@microsift.com',\n",
       "  'birthday': '1989-05-29T00:00:00',\n",
       "  'gender': 'female',\n",
       "  'highestDegreeEarned': \"Bachelor's degree\",\n",
       "  'countryISO2': 'SL',\n",
       "  'admissionsQuiz': 'incomplete'},\n",
       " {'_id': '684bf8e20f889962e2a05ffe',\n",
       "  'createdAt': '2022-06-01T07:21:51',\n",
       "  'firstName': 'Margaret',\n",
       "  'lastName': 'Robinson',\n",
       "  'email': 'margaret.robinson74@hotmeal.com',\n",
       "  'birthday': '1995-07-29T00:00:00',\n",
       "  'gender': 'female',\n",
       "  'highestDegreeEarned': 'Some College (1-3 years)',\n",
       "  'countryISO2': 'PK',\n",
       "  'admissionsQuiz': 'incomplete'},\n",
       " {'_id': '684bf8e20f889962e2a060fc',\n",
       "  'createdAt': '2022-06-01T20:14:15',\n",
       "  'firstName': 'Cheri',\n",
       "  'lastName': 'Martin',\n",
       "  'email': 'cheri.martin75@gmall.com',\n",
       "  'birthday': '1978-05-28T00:00:00',\n",
       "  'gender': 'female',\n",
       "  'highestDegreeEarned': 'Some College (1-3 years)',\n",
       "  'countryISO2': 'CM',\n",
       "  'admissionsQuiz': 'incomplete'},\n",
       " {'_id': '684bf8e20f889962e2a06106',\n",
       "  'createdAt': '2022-06-01T23:38:33',\n",
       "  'firstName': 'David',\n",
       "  'lastName': 'Daniels',\n",
       "  'email': 'david.daniels26@hotmeal.com',\n",
       "  'birthday': '1998-04-11T00:00:00',\n",
       "  'gender': 'male',\n",
       "  'highestDegreeEarned': \"Bachelor's degree\",\n",
       "  'countryISO2': 'NG',\n",
       "  'admissionsQuiz': 'incomplete'},\n",
       " {'_id': '684bf8e20f889962e2a06132',\n",
       "  'createdAt': '2022-06-01T04:14:52',\n",
       "  'firstName': 'Miguel',\n",
       "  'lastName': 'Adams',\n",
       "  'email': 'miguel.adams47@microsift.com',\n",
       "  'birthday': '1997-04-12T00:00:00',\n",
       "  'gender': 'male',\n",
       "  'highestDegreeEarned': \"Bachelor's degree\",\n",
       "  'countryISO2': 'ZA',\n",
       "  'admissionsQuiz': 'incomplete'},\n",
       " {'_id': '684bf8e20f889962e2a06145',\n",
       "  'createdAt': '2022-06-01T03:56:53',\n",
       "  'firstName': 'Jason',\n",
       "  'lastName': 'Davis',\n",
       "  'email': 'jason.davis91@yahow.com',\n",
       "  'birthday': '1990-10-07T00:00:00',\n",
       "  'gender': 'male',\n",
       "  'highestDegreeEarned': \"Master's degree\",\n",
       "  'countryISO2': 'NG',\n",
       "  'admissionsQuiz': 'incomplete'},\n",
       " {'_id': '684bf8e20f889962e2a06186',\n",
       "  'createdAt': '2022-06-01T05:36:55',\n",
       "  'firstName': 'Judson',\n",
       "  'lastName': 'Thacker',\n",
       "  'email': 'judson.thacker63@yahow.com',\n",
       "  'birthday': '1989-02-03T00:00:00',\n",
       "  'gender': 'male',\n",
       "  'highestDegreeEarned': 'High School or Baccalaureate',\n",
       "  'countryISO2': 'NG',\n",
       "  'admissionsQuiz': 'incomplete'},\n",
       " {'_id': '684bf8e20f889962e2a0619b',\n",
       "  'createdAt': '2022-06-01T03:35:01',\n",
       "  'firstName': 'Susan',\n",
       "  'lastName': 'Franklin',\n",
       "  'email': 'susan.franklin58@hotmeal.com',\n",
       "  'birthday': '1997-01-29T00:00:00',\n",
       "  'gender': 'female',\n",
       "  'highestDegreeEarned': 'Some College (1-3 years)',\n",
       "  'countryISO2': 'IN',\n",
       "  'admissionsQuiz': 'incomplete'},\n",
       " {'_id': '684bf8e20f889962e2a06201',\n",
       "  'createdAt': '2022-06-01T07:44:56',\n",
       "  'firstName': 'Reynaldo',\n",
       "  'lastName': 'Sutherland',\n",
       "  'email': 'reynaldo.sutherland76@yahow.com',\n",
       "  'birthday': '2004-06-27T00:00:00',\n",
       "  'gender': 'male',\n",
       "  'highestDegreeEarned': \"Bachelor's degree\",\n",
       "  'countryISO2': 'SO',\n",
       "  'admissionsQuiz': 'incomplete'},\n",
       " {'_id': '684bf8e20f889962e2a06216',\n",
       "  'createdAt': '2022-06-01T12:03:24',\n",
       "  'firstName': 'Malcolm',\n",
       "  'lastName': 'Marshall',\n",
       "  'email': 'malcolm.marshall41@gmall.com',\n",
       "  'birthday': '1995-08-22T00:00:00',\n",
       "  'gender': 'male',\n",
       "  'highestDegreeEarned': \"Master's degree\",\n",
       "  'countryISO2': 'ER',\n",
       "  'admissionsQuiz': 'incomplete'},\n",
       " {'_id': '684bf8e20f889962e2a062be',\n",
       "  'createdAt': '2022-06-01T06:02:05',\n",
       "  'firstName': 'Gail',\n",
       "  'lastName': 'Harman',\n",
       "  'email': 'gail.harman37@gmall.com',\n",
       "  'birthday': '1993-09-04T00:00:00',\n",
       "  'gender': 'female',\n",
       "  'highestDegreeEarned': \"Bachelor's degree\",\n",
       "  'countryISO2': 'PK',\n",
       "  'admissionsQuiz': 'incomplete'}]"
      ]
     },
     "execution_count": 48,
     "metadata": {},
     "output_type": "execute_result"
    }
   ],
   "source": [
    "repo.find_by_date(\"2022-06-01\")"
   ]
  },
  {
   "cell_type": "code",
   "execution_count": 23,
   "metadata": {},
   "outputs": [
    {
     "data": {
      "text/plain": [
       "{'n': 9, 'nModified': 9}"
      ]
     },
     "execution_count": 23,
     "metadata": {},
     "output_type": "execute_result"
    }
   ],
   "source": [
    "date = \"2022-06-02\"\n",
    "repo.assign_to_groups(date)"
   ]
  },
  {
   "cell_type": "code",
   "execution_count": 24,
   "metadata": {},
   "outputs": [
    {
     "data": {
      "text/plain": [
       "[{'_id': '684bf8e20f889962e2a05e29',\n",
       "  'createdAt': '2022-06-02T15:53:39',\n",
       "  'firstName': 'Laura',\n",
       "  'lastName': 'Monty',\n",
       "  'email': 'laura.monty7@yahow.com',\n",
       "  'birthday': '1981-07-04T00:00:00',\n",
       "  'gender': 'female',\n",
       "  'highestDegreeEarned': \"Bachelor's degree\",\n",
       "  'countryISO2': 'ZW',\n",
       "  'admissionsQuiz': 'incomplete',\n",
       "  'group': 'email (treatment)',\n",
       "  'inExperiment': True},\n",
       " {'_id': '684bf8e20f889962e2a05e4b',\n",
       "  'createdAt': '2022-06-02T00:14:35',\n",
       "  'firstName': 'Dennis',\n",
       "  'lastName': 'Rodriguez',\n",
       "  'email': 'dennis.rodriguez16@microsift.com',\n",
       "  'birthday': '2000-11-14T00:00:00',\n",
       "  'gender': 'male',\n",
       "  'highestDegreeEarned': 'Some College (1-3 years)',\n",
       "  'countryISO2': 'NG',\n",
       "  'admissionsQuiz': 'incomplete',\n",
       "  'group': 'email (treatment)',\n",
       "  'inExperiment': True},\n",
       " {'_id': '684bf8e20f889962e2a05eed',\n",
       "  'createdAt': '2022-06-02T02:16:39',\n",
       "  'firstName': 'Robert',\n",
       "  'lastName': 'Mulligan',\n",
       "  'email': 'robert.mulligan28@yahow.com',\n",
       "  'birthday': '1975-03-16T00:00:00',\n",
       "  'gender': 'male',\n",
       "  'highestDegreeEarned': \"Bachelor's degree\",\n",
       "  'countryISO2': 'CM',\n",
       "  'admissionsQuiz': 'incomplete',\n",
       "  'group': 'email (treatment)',\n",
       "  'inExperiment': True},\n",
       " {'_id': '684bf8e20f889962e2a05f11',\n",
       "  'createdAt': '2022-06-02T17:23:08',\n",
       "  'firstName': 'Franklin',\n",
       "  'lastName': 'Reusswig',\n",
       "  'email': 'franklin.reusswig14@hotmeal.com',\n",
       "  'birthday': '1998-06-26T00:00:00',\n",
       "  'gender': 'male',\n",
       "  'highestDegreeEarned': \"Master's degree\",\n",
       "  'countryISO2': 'SO',\n",
       "  'admissionsQuiz': 'incomplete',\n",
       "  'group': 'no email (control)',\n",
       "  'inExperiment': True},\n",
       " {'_id': '684bf8e20f889962e2a05f88',\n",
       "  'createdAt': '2022-06-02T21:45:06',\n",
       "  'firstName': 'Shana',\n",
       "  'lastName': 'Fitzgerald',\n",
       "  'email': 'shana.fitzgerald5@hotmeal.com',\n",
       "  'birthday': '1980-12-25T00:00:00',\n",
       "  'gender': 'female',\n",
       "  'highestDegreeEarned': \"Bachelor's degree\",\n",
       "  'countryISO2': 'NG',\n",
       "  'admissionsQuiz': 'incomplete',\n",
       "  'group': 'no email (control)',\n",
       "  'inExperiment': True},\n",
       " {'_id': '684bf8e20f889962e2a05ff7',\n",
       "  'createdAt': '2022-06-02T21:59:35',\n",
       "  'firstName': 'Rebecca',\n",
       "  'lastName': 'Gutierrez',\n",
       "  'email': 'rebecca.gutierrez14@microsift.com',\n",
       "  'birthday': '1986-11-26T00:00:00',\n",
       "  'gender': 'female',\n",
       "  'highestDegreeEarned': \"Bachelor's degree\",\n",
       "  'countryISO2': 'BD',\n",
       "  'admissionsQuiz': 'incomplete',\n",
       "  'group': 'email (treatment)',\n",
       "  'inExperiment': True},\n",
       " {'_id': '684bf8e20f889962e2a0619c',\n",
       "  'createdAt': '2022-06-02T13:37:21',\n",
       "  'firstName': 'Sandra',\n",
       "  'lastName': 'Miller',\n",
       "  'email': 'sandra.miller91@gmall.com',\n",
       "  'birthday': '2004-04-14T00:00:00',\n",
       "  'gender': 'female',\n",
       "  'highestDegreeEarned': \"Bachelor's degree\",\n",
       "  'countryISO2': 'NG',\n",
       "  'admissionsQuiz': 'incomplete',\n",
       "  'group': 'no email (control)',\n",
       "  'inExperiment': True},\n",
       " {'_id': '684bf8e20f889962e2a061c8',\n",
       "  'createdAt': '2022-06-02T07:56:34',\n",
       "  'firstName': 'Mildred',\n",
       "  'lastName': 'Lewis',\n",
       "  'email': 'mildred.lewis54@hotmeal.com',\n",
       "  'birthday': '1994-08-13T00:00:00',\n",
       "  'gender': 'female',\n",
       "  'highestDegreeEarned': \"Bachelor's degree\",\n",
       "  'countryISO2': 'IN',\n",
       "  'admissionsQuiz': 'incomplete',\n",
       "  'group': 'no email (control)',\n",
       "  'inExperiment': True},\n",
       " {'_id': '684bf8e20f889962e2a0627e',\n",
       "  'createdAt': '2022-06-02T22:10:59',\n",
       "  'firstName': 'Carlos',\n",
       "  'lastName': 'Cunningham',\n",
       "  'email': 'carlos.cunningham8@gmall.com',\n",
       "  'birthday': '1992-01-10T00:00:00',\n",
       "  'gender': 'male',\n",
       "  'highestDegreeEarned': \"Bachelor's degree\",\n",
       "  'countryISO2': 'KE',\n",
       "  'admissionsQuiz': 'incomplete',\n",
       "  'group': 'email (treatment)',\n",
       "  'inExperiment': True}]"
      ]
     },
     "execution_count": 24,
     "metadata": {},
     "output_type": "execute_result"
    }
   ],
   "source": [
    "repo.find_by_date(date)"
   ]
  },
  {
   "cell_type": "code",
   "execution_count": 27,
   "metadata": {},
   "outputs": [
    {
     "name": "stdout",
     "output_type": "stream",
     "text": [
      "Group size: 32\n",
      "Total # of applicants needed: 64\n"
     ]
    }
   ],
   "source": [
    "chi_square_power = GofChisquarePower()\n",
    "group_size = math.ceil(chi_square_power.solve_power(effect_size=0.5,alpha=0.05, power=0.8))\n",
    "\n",
    "print(\"Group size:\", group_size)\n",
    "print(\"Total # of applicants needed:\", group_size * 2)"
   ]
  },
  {
   "cell_type": "code",
   "execution_count": 29,
   "metadata": {},
   "outputs": [
    {
     "name": "stdout",
     "output_type": "stream",
     "text": [
      "result type: <class 'pymongo.synchronous.command_cursor.CommandCursor'>\n",
      "no_quiz type: <class 'pandas.core.series.Series'>\n",
      "no_quiz shape: (30,)\n"
     ]
    },
    {
     "data": {
      "text/plain": [
       "date\n",
       "2022-06-01    20\n",
       "2022-06-02     9\n",
       "2022-06-03    12\n",
       "2022-06-04    15\n",
       "2022-06-05    11\n",
       "Name: new_users, dtype: int64"
      ]
     },
     "execution_count": 29,
     "metadata": {},
     "output_type": "execute_result"
    }
   ],
   "source": [
    "# Aggregate no-quiz applicants by sign-up date\n",
    "result = mscfe_app.aggregate(\n",
    "    [\n",
    "        { \"$match\": {\"admissionsQuiz\": \"incomplete\"} },\n",
    "        {\n",
    "            \"$group\": {\n",
    "                \"_id\": {\n",
    "                    \"$dateTrunc\": {\n",
    "                        \"date\": {\n",
    "                            \"$dateFromString\": { \"dateString\": \"$createdAt\" }\n",
    "                        },\n",
    "                        \"unit\": \"day\"\n",
    "                    }\n",
    "                },\n",
    "                \"count\": { \"$sum\": 1 }\n",
    "            }\n",
    "        }\n",
    "    ]\n",
    ")\n",
    "\n",
    "print(\"result type:\", type(result))\n",
    "\n",
    "# Load result into DataFrame\n",
    "no_quiz_mscfe = (\n",
    "    pd.DataFrame(result)\n",
    "    .rename({\"_id\": \"date\", \"count\": \"new_users\"}, axis=1)\n",
    "    .set_index(\"date\")\n",
    "    .sort_index()\n",
    "    .squeeze()\n",
    ")\n",
    "\n",
    "print(\"no_quiz type:\", type(no_quiz_mscfe))\n",
    "print(\"no_quiz shape:\", no_quiz_mscfe.shape)\n",
    "no_quiz_mscfe.head()"
   ]
  },
  {
   "cell_type": "code",
   "execution_count": 30,
   "metadata": {},
   "outputs": [
    {
     "name": "stdout",
     "output_type": "stream",
     "text": [
      "no_quiz_mscfe mean: 12.133333333333333\n",
      "no_quiz_mscfe std: 3.170264139254595\n"
     ]
    }
   ],
   "source": [
    "mean = no_quiz_mscfe.describe()[\"mean\"]\n",
    "std = no_quiz_mscfe.describe()[\"std\"]\n",
    "print(\"no_quiz_mscfe mean:\", mean)\n",
    "print(\"no_quiz_mscfe std:\", std)"
   ]
  },
  {
   "cell_type": "code",
   "execution_count": 36,
   "metadata": {},
   "outputs": [
    {
     "name": "stdout",
     "output_type": "stream",
     "text": [
      "Mean of sum: 84.93333333333334\n",
      "Std of sum: 8.3877305028539\n"
     ]
    }
   ],
   "source": [
    "exp_days = 7 # iterated to 7 till Probability next cell reached 95% or above\n",
    "sum_mean = mean * exp_days\n",
    "sum_std = std * np.sqrt(exp_days)\n",
    "print(\"Mean of sum:\", sum_mean)\n",
    "print(\"Std of sum:\", sum_std)"
   ]
  },
  {
   "cell_type": "code",
   "execution_count": 37,
   "metadata": {},
   "outputs": [
    {
     "name": "stdout",
     "output_type": "stream",
     "text": [
      "Probability of getting 65+ no_quiz in 7 days: 0.994\n"
     ]
    }
   ],
   "source": [
    "prob_65_or_fewer = scipy.stats.norm.cdf(\n",
    "    group_size*2,\n",
    "    loc=sum_mean,\n",
    "    scale=sum_std\n",
    ")\n",
    "prob_65_or_greater = 1 - prob_65_or_fewer\n",
    "\n",
    "print(\n",
    "    f\"Probability of getting 65+ no_quiz in {exp_days} days:\",\n",
    "    round(prob_65_or_greater, 3),\n",
    ")"
   ]
  },
  {
   "cell_type": "markdown",
   "metadata": {},
   "source": [
    "Using the group_size you calculated earlier and the code you wrote in the previous task, determine how many days you must run your experiment so that you have a 95% or greater chance of getting a sufficient number of observations. Keep in mind that you want to run your experiment for the fewest number of days possible, and no more."
   ]
  },
  {
   "cell_type": "code",
   "execution_count": 40,
   "metadata": {},
   "outputs": [],
   "source": [
    "#RUn Experiment\n",
    "mscfe_app = db[\"mscfe-applicants-after-experiment\"]"
   ]
  },
  {
   "cell_type": "code",
   "execution_count": 44,
   "metadata": {},
   "outputs": [
    {
     "data": {
      "text/plain": [
       "[{'_id': '684bf8e20f889962e2a05e29',\n",
       "  'createdAt': '2022-06-02T15:53:39',\n",
       "  'firstName': 'Laura',\n",
       "  'lastName': 'Monty',\n",
       "  'email': 'laura.monty7@yahow.com',\n",
       "  'birthday': '1981-07-04T00:00:00',\n",
       "  'gender': 'female',\n",
       "  'highestDegreeEarned': \"Bachelor's degree\",\n",
       "  'countryISO2': 'ZW',\n",
       "  'admissionsQuiz': 'incomplete',\n",
       "  'group': 'email (treatment)',\n",
       "  'inExperiment': True},\n",
       " {'_id': '684bf8e20f889962e2a05e4b',\n",
       "  'createdAt': '2022-06-02T00:14:35',\n",
       "  'firstName': 'Dennis',\n",
       "  'lastName': 'Rodriguez',\n",
       "  'email': 'dennis.rodriguez16@microsift.com',\n",
       "  'birthday': '2000-11-14T00:00:00',\n",
       "  'gender': 'male',\n",
       "  'highestDegreeEarned': 'Some College (1-3 years)',\n",
       "  'countryISO2': 'NG',\n",
       "  'admissionsQuiz': 'incomplete',\n",
       "  'group': 'email (treatment)',\n",
       "  'inExperiment': True},\n",
       " {'_id': '684bf8e20f889962e2a05eed',\n",
       "  'createdAt': '2022-06-02T02:16:39',\n",
       "  'firstName': 'Robert',\n",
       "  'lastName': 'Mulligan',\n",
       "  'email': 'robert.mulligan28@yahow.com',\n",
       "  'birthday': '1975-03-16T00:00:00',\n",
       "  'gender': 'male',\n",
       "  'highestDegreeEarned': \"Bachelor's degree\",\n",
       "  'countryISO2': 'CM',\n",
       "  'admissionsQuiz': 'incomplete',\n",
       "  'group': 'email (treatment)',\n",
       "  'inExperiment': True},\n",
       " {'_id': '684bf8e20f889962e2a05f11',\n",
       "  'createdAt': '2022-06-02T17:23:08',\n",
       "  'firstName': 'Franklin',\n",
       "  'lastName': 'Reusswig',\n",
       "  'email': 'franklin.reusswig14@hotmeal.com',\n",
       "  'birthday': '1998-06-26T00:00:00',\n",
       "  'gender': 'male',\n",
       "  'highestDegreeEarned': \"Master's degree\",\n",
       "  'countryISO2': 'SO',\n",
       "  'admissionsQuiz': 'incomplete',\n",
       "  'group': 'no email (control)',\n",
       "  'inExperiment': True},\n",
       " {'_id': '684bf8e20f889962e2a05f88',\n",
       "  'createdAt': '2022-06-02T21:45:06',\n",
       "  'firstName': 'Shana',\n",
       "  'lastName': 'Fitzgerald',\n",
       "  'email': 'shana.fitzgerald5@hotmeal.com',\n",
       "  'birthday': '1980-12-25T00:00:00',\n",
       "  'gender': 'female',\n",
       "  'highestDegreeEarned': \"Bachelor's degree\",\n",
       "  'countryISO2': 'NG',\n",
       "  'admissionsQuiz': 'incomplete',\n",
       "  'group': 'no email (control)',\n",
       "  'inExperiment': True},\n",
       " {'_id': '684bf8e20f889962e2a05ff7',\n",
       "  'createdAt': '2022-06-02T21:59:35',\n",
       "  'firstName': 'Rebecca',\n",
       "  'lastName': 'Gutierrez',\n",
       "  'email': 'rebecca.gutierrez14@microsift.com',\n",
       "  'birthday': '1986-11-26T00:00:00',\n",
       "  'gender': 'female',\n",
       "  'highestDegreeEarned': \"Bachelor's degree\",\n",
       "  'countryISO2': 'BD',\n",
       "  'admissionsQuiz': 'incomplete',\n",
       "  'group': 'email (treatment)',\n",
       "  'inExperiment': True},\n",
       " {'_id': '684bf8e20f889962e2a0619c',\n",
       "  'createdAt': '2022-06-02T13:37:21',\n",
       "  'firstName': 'Sandra',\n",
       "  'lastName': 'Miller',\n",
       "  'email': 'sandra.miller91@gmall.com',\n",
       "  'birthday': '2004-04-14T00:00:00',\n",
       "  'gender': 'female',\n",
       "  'highestDegreeEarned': \"Bachelor's degree\",\n",
       "  'countryISO2': 'NG',\n",
       "  'admissionsQuiz': 'incomplete',\n",
       "  'group': 'no email (control)',\n",
       "  'inExperiment': True},\n",
       " {'_id': '684bf8e20f889962e2a061c8',\n",
       "  'createdAt': '2022-06-02T07:56:34',\n",
       "  'firstName': 'Mildred',\n",
       "  'lastName': 'Lewis',\n",
       "  'email': 'mildred.lewis54@hotmeal.com',\n",
       "  'birthday': '1994-08-13T00:00:00',\n",
       "  'gender': 'female',\n",
       "  'highestDegreeEarned': \"Bachelor's degree\",\n",
       "  'countryISO2': 'IN',\n",
       "  'admissionsQuiz': 'incomplete',\n",
       "  'group': 'no email (control)',\n",
       "  'inExperiment': True},\n",
       " {'_id': '684bf8e20f889962e2a0627e',\n",
       "  'createdAt': '2022-06-02T22:10:59',\n",
       "  'firstName': 'Carlos',\n",
       "  'lastName': 'Cunningham',\n",
       "  'email': 'carlos.cunningham8@gmall.com',\n",
       "  'birthday': '1992-01-10T00:00:00',\n",
       "  'gender': 'male',\n",
       "  'highestDegreeEarned': \"Bachelor's degree\",\n",
       "  'countryISO2': 'KE',\n",
       "  'admissionsQuiz': 'incomplete',\n",
       "  'group': 'email (treatment)',\n",
       "  'inExperiment': True}]"
      ]
     },
     "execution_count": 44,
     "metadata": {},
     "output_type": "execute_result"
    }
   ],
   "source": [
    "repo.find_exp_observations()"
   ]
  },
  {
   "cell_type": "code",
   "execution_count": 49,
   "metadata": {},
   "outputs": [
    {
     "name": "stdout",
     "output_type": "stream",
     "text": [
      "df type: <class 'pandas.core.frame.DataFrame'>\n",
      "df shape: (68, 12)\n"
     ]
    },
    {
     "data": {
      "text/html": [
       "<div>\n",
       "<style scoped>\n",
       "    .dataframe tbody tr th:only-of-type {\n",
       "        vertical-align: middle;\n",
       "    }\n",
       "\n",
       "    .dataframe tbody tr th {\n",
       "        vertical-align: top;\n",
       "    }\n",
       "\n",
       "    .dataframe thead th {\n",
       "        text-align: right;\n",
       "    }\n",
       "</style>\n",
       "<table border=\"1\" class=\"dataframe\">\n",
       "  <thead>\n",
       "    <tr style=\"text-align: right;\">\n",
       "      <th></th>\n",
       "      <th>_id</th>\n",
       "      <th>createdAt</th>\n",
       "      <th>firstName</th>\n",
       "      <th>lastName</th>\n",
       "      <th>email</th>\n",
       "      <th>birthday</th>\n",
       "      <th>gender</th>\n",
       "      <th>highestDegreeEarned</th>\n",
       "      <th>countryISO2</th>\n",
       "      <th>admissionsQuiz</th>\n",
       "      <th>inExperiment</th>\n",
       "      <th>group</th>\n",
       "    </tr>\n",
       "  </thead>\n",
       "  <tbody>\n",
       "    <tr>\n",
       "      <th>0</th>\n",
       "      <td>684c059c0f889962e2a06306</td>\n",
       "      <td>2025-06-15T18:51:18</td>\n",
       "      <td>Larry</td>\n",
       "      <td>Seal</td>\n",
       "      <td>larry.seal60@yahow.com</td>\n",
       "      <td>2002-07-06T00:00:00</td>\n",
       "      <td>male</td>\n",
       "      <td>Master's degree</td>\n",
       "      <td>IT</td>\n",
       "      <td>complete</td>\n",
       "      <td>True</td>\n",
       "      <td>email (t)</td>\n",
       "    </tr>\n",
       "    <tr>\n",
       "      <th>1</th>\n",
       "      <td>684c059c0f889962e2a06307</td>\n",
       "      <td>2025-06-16T02:05:28</td>\n",
       "      <td>Patricia</td>\n",
       "      <td>Sanchez</td>\n",
       "      <td>patricia.sanchez83@yahow.com</td>\n",
       "      <td>2004-02-10T00:00:00</td>\n",
       "      <td>female</td>\n",
       "      <td>Bachelor's degree</td>\n",
       "      <td>ET</td>\n",
       "      <td>complete</td>\n",
       "      <td>True</td>\n",
       "      <td>email (t)</td>\n",
       "    </tr>\n",
       "    <tr>\n",
       "      <th>2</th>\n",
       "      <td>684c059c0f889962e2a0630e</td>\n",
       "      <td>2025-06-17T01:21:09</td>\n",
       "      <td>Jessica</td>\n",
       "      <td>Hawkes</td>\n",
       "      <td>jessica.hawkes41@gmall.com</td>\n",
       "      <td>1995-10-11T00:00:00</td>\n",
       "      <td>female</td>\n",
       "      <td>Bachelor's degree</td>\n",
       "      <td>IN</td>\n",
       "      <td>complete</td>\n",
       "      <td>True</td>\n",
       "      <td>email (t)</td>\n",
       "    </tr>\n",
       "    <tr>\n",
       "      <th>3</th>\n",
       "      <td>684c059c0f889962e2a0631b</td>\n",
       "      <td>2025-06-14T23:50:46</td>\n",
       "      <td>Regina</td>\n",
       "      <td>Coffey</td>\n",
       "      <td>regina.coffey84@microsift.com</td>\n",
       "      <td>1986-04-06T00:00:00</td>\n",
       "      <td>female</td>\n",
       "      <td>Master's degree</td>\n",
       "      <td>NG</td>\n",
       "      <td>complete</td>\n",
       "      <td>True</td>\n",
       "      <td>email (t)</td>\n",
       "    </tr>\n",
       "    <tr>\n",
       "      <th>4</th>\n",
       "      <td>684c059c0f889962e2a0631c</td>\n",
       "      <td>2025-06-19T10:02:36</td>\n",
       "      <td>Reginald</td>\n",
       "      <td>Medina</td>\n",
       "      <td>reginald.medina30@hotmeal.com</td>\n",
       "      <td>1988-09-17T00:00:00</td>\n",
       "      <td>male</td>\n",
       "      <td>Master's degree</td>\n",
       "      <td>IN</td>\n",
       "      <td>complete</td>\n",
       "      <td>True</td>\n",
       "      <td>email (t)</td>\n",
       "    </tr>\n",
       "  </tbody>\n",
       "</table>\n",
       "</div>"
      ],
      "text/plain": [
       "                        _id            createdAt firstName lastName  \\\n",
       "0  684c059c0f889962e2a06306  2025-06-15T18:51:18     Larry     Seal   \n",
       "1  684c059c0f889962e2a06307  2025-06-16T02:05:28  Patricia  Sanchez   \n",
       "2  684c059c0f889962e2a0630e  2025-06-17T01:21:09   Jessica   Hawkes   \n",
       "3  684c059c0f889962e2a0631b  2025-06-14T23:50:46    Regina   Coffey   \n",
       "4  684c059c0f889962e2a0631c  2025-06-19T10:02:36  Reginald   Medina   \n",
       "\n",
       "                           email             birthday  gender  \\\n",
       "0         larry.seal60@yahow.com  2002-07-06T00:00:00    male   \n",
       "1   patricia.sanchez83@yahow.com  2004-02-10T00:00:00  female   \n",
       "2     jessica.hawkes41@gmall.com  1995-10-11T00:00:00  female   \n",
       "3  regina.coffey84@microsift.com  1986-04-06T00:00:00  female   \n",
       "4  reginald.medina30@hotmeal.com  1988-09-17T00:00:00    male   \n",
       "\n",
       "  highestDegreeEarned countryISO2 admissionsQuiz  inExperiment      group  \n",
       "0     Master's degree          IT       complete          True  email (t)  \n",
       "1   Bachelor's degree          ET       complete          True  email (t)  \n",
       "2   Bachelor's degree          IN       complete          True  email (t)  \n",
       "3     Master's degree          NG       complete          True  email (t)  \n",
       "4     Master's degree          IN       complete          True  email (t)  "
      ]
     },
     "execution_count": 49,
     "metadata": {},
     "output_type": "execute_result"
    }
   ],
   "source": [
    "result = repo.find_exp_observations()\n",
    "df = pd.DataFrame(result).dropna()\n",
    "\n",
    "print(\"df type:\", type(df))\n",
    "print(\"df shape:\", df.shape)\n",
    "df.head()"
   ]
  },
  {
   "cell_type": "code",
   "execution_count": 50,
   "metadata": {},
   "outputs": [
    {
     "name": "stdout",
     "output_type": "stream",
     "text": [
      "data type: <class 'pandas.core.frame.DataFrame'>\n",
      "data shape: (2, 2)\n"
     ]
    },
    {
     "data": {
      "text/html": [
       "<div>\n",
       "<style scoped>\n",
       "    .dataframe tbody tr th:only-of-type {\n",
       "        vertical-align: middle;\n",
       "    }\n",
       "\n",
       "    .dataframe tbody tr th {\n",
       "        vertical-align: top;\n",
       "    }\n",
       "\n",
       "    .dataframe thead th {\n",
       "        text-align: right;\n",
       "    }\n",
       "</style>\n",
       "<table border=\"1\" class=\"dataframe\">\n",
       "  <thead>\n",
       "    <tr style=\"text-align: right;\">\n",
       "      <th>admissionsQuiz</th>\n",
       "      <th>complete</th>\n",
       "      <th>incomplete</th>\n",
       "    </tr>\n",
       "    <tr>\n",
       "      <th>group</th>\n",
       "      <th></th>\n",
       "      <th></th>\n",
       "    </tr>\n",
       "  </thead>\n",
       "  <tbody>\n",
       "    <tr>\n",
       "      <th>email (t)</th>\n",
       "      <td>7</td>\n",
       "      <td>27</td>\n",
       "    </tr>\n",
       "    <tr>\n",
       "      <th>no email (c)</th>\n",
       "      <td>1</td>\n",
       "      <td>33</td>\n",
       "    </tr>\n",
       "  </tbody>\n",
       "</table>\n",
       "</div>"
      ],
      "text/plain": [
       "admissionsQuiz  complete  incomplete\n",
       "group                               \n",
       "email (t)              7          27\n",
       "no email (c)           1          33"
      ]
     },
     "execution_count": 50,
     "metadata": {},
     "output_type": "execute_result"
    }
   ],
   "source": [
    "data = pd.crosstab(\n",
    "    index=df[\"group\"],\n",
    "    columns=df[\"admissionsQuiz\"],\n",
    "    normalize=False\n",
    ")\n",
    "\n",
    "print(\"data type:\", type(data))\n",
    "print(\"data shape:\", data.shape)\n",
    "data"
   ]
  },
  {
   "cell_type": "code",
   "execution_count": 51,
   "metadata": {},
   "outputs": [
    {
     "data": {
      "application/vnd.plotly.v1+json": {
       "config": {
        "plotlyServerURL": "https://plot.ly"
       },
       "data": [
        {
         "alignmentgroup": "True",
         "hovertemplate": "admissionsQuiz=complete<br>group=%{x}<br>value=%{y}<extra></extra>",
         "legendgroup": "complete",
         "marker": {
          "color": "#636efa",
          "pattern": {
           "shape": ""
          }
         },
         "name": "complete",
         "offsetgroup": "complete",
         "orientation": "v",
         "showlegend": true,
         "textposition": "auto",
         "type": "bar",
         "x": [
          "email (t)",
          "no email (c)"
         ],
         "xaxis": "x",
         "y": {
          "bdata": "BwE=",
          "dtype": "i1"
         },
         "yaxis": "y"
        },
        {
         "alignmentgroup": "True",
         "hovertemplate": "admissionsQuiz=incomplete<br>group=%{x}<br>value=%{y}<extra></extra>",
         "legendgroup": "incomplete",
         "marker": {
          "color": "#EF553B",
          "pattern": {
           "shape": ""
          }
         },
         "name": "incomplete",
         "offsetgroup": "incomplete",
         "orientation": "v",
         "showlegend": true,
         "textposition": "auto",
         "type": "bar",
         "x": [
          "email (t)",
          "no email (c)"
         ],
         "xaxis": "x",
         "y": {
          "bdata": "GyE=",
          "dtype": "i1"
         },
         "yaxis": "y"
        }
       ],
       "layout": {
        "barmode": "group",
        "legend": {
         "title": {
          "text": "Admissions Quiz"
         },
         "tracegroupgap": 0
        },
        "template": {
         "data": {
          "bar": [
           {
            "error_x": {
             "color": "#2a3f5f"
            },
            "error_y": {
             "color": "#2a3f5f"
            },
            "marker": {
             "line": {
              "color": "#E5ECF6",
              "width": 0.5
             },
             "pattern": {
              "fillmode": "overlay",
              "size": 10,
              "solidity": 0.2
             }
            },
            "type": "bar"
           }
          ],
          "barpolar": [
           {
            "marker": {
             "line": {
              "color": "#E5ECF6",
              "width": 0.5
             },
             "pattern": {
              "fillmode": "overlay",
              "size": 10,
              "solidity": 0.2
             }
            },
            "type": "barpolar"
           }
          ],
          "carpet": [
           {
            "aaxis": {
             "endlinecolor": "#2a3f5f",
             "gridcolor": "white",
             "linecolor": "white",
             "minorgridcolor": "white",
             "startlinecolor": "#2a3f5f"
            },
            "baxis": {
             "endlinecolor": "#2a3f5f",
             "gridcolor": "white",
             "linecolor": "white",
             "minorgridcolor": "white",
             "startlinecolor": "#2a3f5f"
            },
            "type": "carpet"
           }
          ],
          "choropleth": [
           {
            "colorbar": {
             "outlinewidth": 0,
             "ticks": ""
            },
            "type": "choropleth"
           }
          ],
          "contour": [
           {
            "colorbar": {
             "outlinewidth": 0,
             "ticks": ""
            },
            "colorscale": [
             [
              0,
              "#0d0887"
             ],
             [
              0.1111111111111111,
              "#46039f"
             ],
             [
              0.2222222222222222,
              "#7201a8"
             ],
             [
              0.3333333333333333,
              "#9c179e"
             ],
             [
              0.4444444444444444,
              "#bd3786"
             ],
             [
              0.5555555555555556,
              "#d8576b"
             ],
             [
              0.6666666666666666,
              "#ed7953"
             ],
             [
              0.7777777777777778,
              "#fb9f3a"
             ],
             [
              0.8888888888888888,
              "#fdca26"
             ],
             [
              1,
              "#f0f921"
             ]
            ],
            "type": "contour"
           }
          ],
          "contourcarpet": [
           {
            "colorbar": {
             "outlinewidth": 0,
             "ticks": ""
            },
            "type": "contourcarpet"
           }
          ],
          "heatmap": [
           {
            "colorbar": {
             "outlinewidth": 0,
             "ticks": ""
            },
            "colorscale": [
             [
              0,
              "#0d0887"
             ],
             [
              0.1111111111111111,
              "#46039f"
             ],
             [
              0.2222222222222222,
              "#7201a8"
             ],
             [
              0.3333333333333333,
              "#9c179e"
             ],
             [
              0.4444444444444444,
              "#bd3786"
             ],
             [
              0.5555555555555556,
              "#d8576b"
             ],
             [
              0.6666666666666666,
              "#ed7953"
             ],
             [
              0.7777777777777778,
              "#fb9f3a"
             ],
             [
              0.8888888888888888,
              "#fdca26"
             ],
             [
              1,
              "#f0f921"
             ]
            ],
            "type": "heatmap"
           }
          ],
          "histogram": [
           {
            "marker": {
             "pattern": {
              "fillmode": "overlay",
              "size": 10,
              "solidity": 0.2
             }
            },
            "type": "histogram"
           }
          ],
          "histogram2d": [
           {
            "colorbar": {
             "outlinewidth": 0,
             "ticks": ""
            },
            "colorscale": [
             [
              0,
              "#0d0887"
             ],
             [
              0.1111111111111111,
              "#46039f"
             ],
             [
              0.2222222222222222,
              "#7201a8"
             ],
             [
              0.3333333333333333,
              "#9c179e"
             ],
             [
              0.4444444444444444,
              "#bd3786"
             ],
             [
              0.5555555555555556,
              "#d8576b"
             ],
             [
              0.6666666666666666,
              "#ed7953"
             ],
             [
              0.7777777777777778,
              "#fb9f3a"
             ],
             [
              0.8888888888888888,
              "#fdca26"
             ],
             [
              1,
              "#f0f921"
             ]
            ],
            "type": "histogram2d"
           }
          ],
          "histogram2dcontour": [
           {
            "colorbar": {
             "outlinewidth": 0,
             "ticks": ""
            },
            "colorscale": [
             [
              0,
              "#0d0887"
             ],
             [
              0.1111111111111111,
              "#46039f"
             ],
             [
              0.2222222222222222,
              "#7201a8"
             ],
             [
              0.3333333333333333,
              "#9c179e"
             ],
             [
              0.4444444444444444,
              "#bd3786"
             ],
             [
              0.5555555555555556,
              "#d8576b"
             ],
             [
              0.6666666666666666,
              "#ed7953"
             ],
             [
              0.7777777777777778,
              "#fb9f3a"
             ],
             [
              0.8888888888888888,
              "#fdca26"
             ],
             [
              1,
              "#f0f921"
             ]
            ],
            "type": "histogram2dcontour"
           }
          ],
          "mesh3d": [
           {
            "colorbar": {
             "outlinewidth": 0,
             "ticks": ""
            },
            "type": "mesh3d"
           }
          ],
          "parcoords": [
           {
            "line": {
             "colorbar": {
              "outlinewidth": 0,
              "ticks": ""
             }
            },
            "type": "parcoords"
           }
          ],
          "pie": [
           {
            "automargin": true,
            "type": "pie"
           }
          ],
          "scatter": [
           {
            "fillpattern": {
             "fillmode": "overlay",
             "size": 10,
             "solidity": 0.2
            },
            "type": "scatter"
           }
          ],
          "scatter3d": [
           {
            "line": {
             "colorbar": {
              "outlinewidth": 0,
              "ticks": ""
             }
            },
            "marker": {
             "colorbar": {
              "outlinewidth": 0,
              "ticks": ""
             }
            },
            "type": "scatter3d"
           }
          ],
          "scattercarpet": [
           {
            "marker": {
             "colorbar": {
              "outlinewidth": 0,
              "ticks": ""
             }
            },
            "type": "scattercarpet"
           }
          ],
          "scattergeo": [
           {
            "marker": {
             "colorbar": {
              "outlinewidth": 0,
              "ticks": ""
             }
            },
            "type": "scattergeo"
           }
          ],
          "scattergl": [
           {
            "marker": {
             "colorbar": {
              "outlinewidth": 0,
              "ticks": ""
             }
            },
            "type": "scattergl"
           }
          ],
          "scattermap": [
           {
            "marker": {
             "colorbar": {
              "outlinewidth": 0,
              "ticks": ""
             }
            },
            "type": "scattermap"
           }
          ],
          "scattermapbox": [
           {
            "marker": {
             "colorbar": {
              "outlinewidth": 0,
              "ticks": ""
             }
            },
            "type": "scattermapbox"
           }
          ],
          "scatterpolar": [
           {
            "marker": {
             "colorbar": {
              "outlinewidth": 0,
              "ticks": ""
             }
            },
            "type": "scatterpolar"
           }
          ],
          "scatterpolargl": [
           {
            "marker": {
             "colorbar": {
              "outlinewidth": 0,
              "ticks": ""
             }
            },
            "type": "scatterpolargl"
           }
          ],
          "scatterternary": [
           {
            "marker": {
             "colorbar": {
              "outlinewidth": 0,
              "ticks": ""
             }
            },
            "type": "scatterternary"
           }
          ],
          "surface": [
           {
            "colorbar": {
             "outlinewidth": 0,
             "ticks": ""
            },
            "colorscale": [
             [
              0,
              "#0d0887"
             ],
             [
              0.1111111111111111,
              "#46039f"
             ],
             [
              0.2222222222222222,
              "#7201a8"
             ],
             [
              0.3333333333333333,
              "#9c179e"
             ],
             [
              0.4444444444444444,
              "#bd3786"
             ],
             [
              0.5555555555555556,
              "#d8576b"
             ],
             [
              0.6666666666666666,
              "#ed7953"
             ],
             [
              0.7777777777777778,
              "#fb9f3a"
             ],
             [
              0.8888888888888888,
              "#fdca26"
             ],
             [
              1,
              "#f0f921"
             ]
            ],
            "type": "surface"
           }
          ],
          "table": [
           {
            "cells": {
             "fill": {
              "color": "#EBF0F8"
             },
             "line": {
              "color": "white"
             }
            },
            "header": {
             "fill": {
              "color": "#C8D4E3"
             },
             "line": {
              "color": "white"
             }
            },
            "type": "table"
           }
          ]
         },
         "layout": {
          "annotationdefaults": {
           "arrowcolor": "#2a3f5f",
           "arrowhead": 0,
           "arrowwidth": 1
          },
          "autotypenumbers": "strict",
          "coloraxis": {
           "colorbar": {
            "outlinewidth": 0,
            "ticks": ""
           }
          },
          "colorscale": {
           "diverging": [
            [
             0,
             "#8e0152"
            ],
            [
             0.1,
             "#c51b7d"
            ],
            [
             0.2,
             "#de77ae"
            ],
            [
             0.3,
             "#f1b6da"
            ],
            [
             0.4,
             "#fde0ef"
            ],
            [
             0.5,
             "#f7f7f7"
            ],
            [
             0.6,
             "#e6f5d0"
            ],
            [
             0.7,
             "#b8e186"
            ],
            [
             0.8,
             "#7fbc41"
            ],
            [
             0.9,
             "#4d9221"
            ],
            [
             1,
             "#276419"
            ]
           ],
           "sequential": [
            [
             0,
             "#0d0887"
            ],
            [
             0.1111111111111111,
             "#46039f"
            ],
            [
             0.2222222222222222,
             "#7201a8"
            ],
            [
             0.3333333333333333,
             "#9c179e"
            ],
            [
             0.4444444444444444,
             "#bd3786"
            ],
            [
             0.5555555555555556,
             "#d8576b"
            ],
            [
             0.6666666666666666,
             "#ed7953"
            ],
            [
             0.7777777777777778,
             "#fb9f3a"
            ],
            [
             0.8888888888888888,
             "#fdca26"
            ],
            [
             1,
             "#f0f921"
            ]
           ],
           "sequentialminus": [
            [
             0,
             "#0d0887"
            ],
            [
             0.1111111111111111,
             "#46039f"
            ],
            [
             0.2222222222222222,
             "#7201a8"
            ],
            [
             0.3333333333333333,
             "#9c179e"
            ],
            [
             0.4444444444444444,
             "#bd3786"
            ],
            [
             0.5555555555555556,
             "#d8576b"
            ],
            [
             0.6666666666666666,
             "#ed7953"
            ],
            [
             0.7777777777777778,
             "#fb9f3a"
            ],
            [
             0.8888888888888888,
             "#fdca26"
            ],
            [
             1,
             "#f0f921"
            ]
           ]
          },
          "colorway": [
           "#636efa",
           "#EF553B",
           "#00cc96",
           "#ab63fa",
           "#FFA15A",
           "#19d3f3",
           "#FF6692",
           "#B6E880",
           "#FF97FF",
           "#FECB52"
          ],
          "font": {
           "color": "#2a3f5f"
          },
          "geo": {
           "bgcolor": "white",
           "lakecolor": "white",
           "landcolor": "#E5ECF6",
           "showlakes": true,
           "showland": true,
           "subunitcolor": "white"
          },
          "hoverlabel": {
           "align": "left"
          },
          "hovermode": "closest",
          "mapbox": {
           "style": "light"
          },
          "paper_bgcolor": "white",
          "plot_bgcolor": "#E5ECF6",
          "polar": {
           "angularaxis": {
            "gridcolor": "white",
            "linecolor": "white",
            "ticks": ""
           },
           "bgcolor": "#E5ECF6",
           "radialaxis": {
            "gridcolor": "white",
            "linecolor": "white",
            "ticks": ""
           }
          },
          "scene": {
           "xaxis": {
            "backgroundcolor": "#E5ECF6",
            "gridcolor": "white",
            "gridwidth": 2,
            "linecolor": "white",
            "showbackground": true,
            "ticks": "",
            "zerolinecolor": "white"
           },
           "yaxis": {
            "backgroundcolor": "#E5ECF6",
            "gridcolor": "white",
            "gridwidth": 2,
            "linecolor": "white",
            "showbackground": true,
            "ticks": "",
            "zerolinecolor": "white"
           },
           "zaxis": {
            "backgroundcolor": "#E5ECF6",
            "gridcolor": "white",
            "gridwidth": 2,
            "linecolor": "white",
            "showbackground": true,
            "ticks": "",
            "zerolinecolor": "white"
           }
          },
          "shapedefaults": {
           "line": {
            "color": "#2a3f5f"
           }
          },
          "ternary": {
           "aaxis": {
            "gridcolor": "white",
            "linecolor": "white",
            "ticks": ""
           },
           "baxis": {
            "gridcolor": "white",
            "linecolor": "white",
            "ticks": ""
           },
           "bgcolor": "#E5ECF6",
           "caxis": {
            "gridcolor": "white",
            "linecolor": "white",
            "ticks": ""
           }
          },
          "title": {
           "x": 0.05
          },
          "xaxis": {
           "automargin": true,
           "gridcolor": "white",
           "linecolor": "white",
           "ticks": "",
           "title": {
            "standoff": 15
           },
           "zerolinecolor": "white",
           "zerolinewidth": 2
          },
          "yaxis": {
           "automargin": true,
           "gridcolor": "white",
           "linecolor": "white",
           "ticks": "",
           "title": {
            "standoff": 15
           },
           "zerolinecolor": "white",
           "zerolinewidth": 2
          }
         }
        },
        "title": {
         "text": "MScFE: Admissions Quiz Completion by Group"
        },
        "xaxis": {
         "anchor": "y",
         "domain": [
          0,
          1
         ],
         "title": {
          "text": "Group"
         }
        },
        "yaxis": {
         "anchor": "x",
         "domain": [
          0,
          1
         ],
         "title": {
          "text": "Frequency [count]"
         }
        }
       }
      },
      "image/png": "[encoded data removed]"
     },
     "metadata": {},
     "output_type": "display_data"
    }
   ],
   "source": [
    "# Create `build_contingency_bar` function\n",
    "def build_contingency_bar():\n",
    "    # Create side-by-side bar chart\n",
    "    fig = px.bar(\n",
    "        data_frame=data,\n",
    "        barmode=\"group\",\n",
    "        title=\"MScFE: Admissions Quiz Completion by Group\"\n",
    "    )\n",
    "    # Set axis labels\n",
    "    fig.update_layout(\n",
    "        xaxis_title=\"Group\",\n",
    "        yaxis_title=\"Frequency [count]\",\n",
    "        legend={\"title\": \"Admissions Quiz\"}\n",
    "    )\n",
    "    return fig\n",
    "\n",
    "cb_fig = build_contingency_bar()\n",
    "\n",
    "cb_fig.show()"
   ]
  },
  {
   "cell_type": "code",
   "execution_count": 52,
   "metadata": {},
   "outputs": [
    {
     "name": "stdout",
     "output_type": "stream",
     "text": [
      "contingency_table type: <class 'statsmodels.stats.contingency_tables.Table2x2'>\n"
     ]
    },
    {
     "data": {
      "text/plain": [
       "array([[ 7, 27],\n",
       "       [ 1, 33]])"
      ]
     },
     "execution_count": 52,
     "metadata": {},
     "output_type": "execute_result"
    }
   ],
   "source": [
    "contingency_table = Table2x2(data.values)\n",
    "\n",
    "print(\"contingency_table type:\", type(contingency_table))\n",
    "contingency_table.table_orig"
   ]
  },
  {
   "cell_type": "code",
   "execution_count": 53,
   "metadata": {},
   "outputs": [
    {
     "name": "stdout",
     "output_type": "stream",
     "text": [
      "chi_square_test type: <class 'statsmodels.stats.contingency_tables._Bunch'>\n",
      "df          1\n",
      "pvalue      0.023925843480626652\n",
      "statistic   5.1\n"
     ]
    }
   ],
   "source": [
    "chi_square_test = contingency_table.test_nominal_association()\n",
    "\n",
    "print(\"chi_square_test type:\", type(chi_square_test))\n",
    "print(chi_square_test)"
   ]
  },
  {
   "cell_type": "code",
   "execution_count": 54,
   "metadata": {},
   "outputs": [],
   "source": [
    "odds_ratio = contingency_table.oddsratio.round(1)\n"
   ]
  },
  {
   "cell_type": "code",
   "execution_count": null,
   "metadata": {},
   "outputs": [],
   "source": []
  }
 ],
 "metadata": {
  "kernelspec": {
   "display_name": "Python (hypothesis-testing-kernel)",
   "language": "python",
   "name": "hypothesis-testing"
  },
  "language_info": {
   "codemirror_mode": {
    "name": "ipython",
    "version": 3
   },
   "file_extension": ".py",
   "mimetype": "text/x-python",
   "name": "python",
   "nbconvert_exporter": "python",
   "pygments_lexer": "ipython3",
   "version": "3.11.8"
  }
 },
 "nbformat": 4,
 "nbformat_minor": 4
}
