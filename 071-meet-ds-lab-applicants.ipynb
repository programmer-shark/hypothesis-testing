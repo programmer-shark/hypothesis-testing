{
 "cells": [
  {
   "cell_type": "code",
   "execution_count": 2,
   "id": "7bdf5af6-cb68-418b-ae44-d3fce938abb8",
   "metadata": {},
   "outputs": [],
   "source": [
    "from pprint import PrettyPrinter\n",
    "\n",
    "import pandas as pd\n",
    "import plotly.express as px\n",
    "from country_converter import CountryConverter\n",
    "from IPython.display import VimeoVideo\n",
    "from pymongo import MongoClient"
   ]
  },
  {
   "cell_type": "code",
   "execution_count": 3,
   "id": "ca47521a-a1a7-486e-a398-e03fecdedb4b",
   "metadata": {},
   "outputs": [
    {
     "name": "stdout",
     "output_type": "stream",
     "text": [
      "pp type: <class 'pprint.PrettyPrinter'>\n"
     ]
    }
   ],
   "source": [
    "pp = PrettyPrinter(indent=2)\n",
    "print(\"pp type:\", type(pp))"
   ]
  },
  {
   "cell_type": "code",
   "execution_count": 5,
   "id": "ca378fad-44b3-4af4-8b48-d5cd59d99ed0",
   "metadata": {},
   "outputs": [
    {
     "name": "stdout",
     "output_type": "stream",
     "text": [
      "client type: <class 'pymongo.synchronous.mongo_client.MongoClient'>\n"
     ]
    }
   ],
   "source": [
    "client = MongoClient(host=\"localhost\",port=27017)\n",
    "print(\"client type:\", type(client))"
   ]
  },
  {
   "cell_type": "code",
   "execution_count": 8,
   "id": "b571c574-bdab-434f-a42c-2f4b56951f8d",
   "metadata": {},
   "outputs": [
    {
     "name": "stdout",
     "output_type": "stream",
     "text": [
      "ds_app type: <class 'pymongo.synchronous.collection.Collection'>\n"
     ]
    }
   ],
   "source": [
    "db = client[\"abtest-db\"]\n",
    "ds_app = db[\"ds-applicants\"]\n",
    "print(\"ds_app type:\", type(ds_app))"
   ]
  },
  {
   "cell_type": "code",
   "execution_count": 9,
   "id": "3dcd92a1-67a1-45fe-969c-1768644205ca",
   "metadata": {},
   "outputs": [
    {
     "name": "stdout",
     "output_type": "stream",
     "text": [
      "Num. documents in 'ds-applicants': 5025\n"
     ]
    }
   ],
   "source": [
    "# Count documents in `ds_app`\n",
    "n_documents = ds_app.count_documents({})\n",
    "print(\"Num. documents in 'ds-applicants':\", n_documents)"
   ]
  },
  {
   "cell_type": "code",
   "execution_count": 10,
   "id": "83a8681a-df5e-40cc-bc6f-3184dd8e74db",
   "metadata": {},
   "outputs": [
    {
     "name": "stdout",
     "output_type": "stream",
     "text": [
      "result type: <class 'dict'>\n",
      "{ '_id': '6525d787953844722c8383f8',\n",
      "  'admissionsQuiz': 'incomplete',\n",
      "  'birthday': '1998-04-29 00:00:00',\n",
      "  'countryISO2': 'GB',\n",
      "  'createdAt': '2022-05-13 15:02:44',\n",
      "  'email': 'terry.hassler28@yahow.com',\n",
      "  'firstName': 'Terry',\n",
      "  'gender': 'male',\n",
      "  'highestDegreeEarned': \"Bachelor's degree\",\n",
      "  'lastName': 'Hassler'}\n"
     ]
    }
   ],
   "source": [
    "result = ds_app.find_one({})\n",
    "print(\"result type:\", type(result))\n",
    "pp.pprint(result)"
   ]
  },
  {
   "cell_type": "code",
   "execution_count": 14,
   "id": "c438e49e-f3a9-4ba0-a343-edf87cafbdb4",
   "metadata": {},
   "outputs": [
    {
     "name": "stdout",
     "output_type": "stream",
     "text": [
      "result type: <class 'pymongo.synchronous.command_cursor.CommandCursor'>\n"
     ]
    }
   ],
   "source": [
    "result = ds_app.aggregate(\n",
    "    [\n",
    "        {\n",
    "            \"$group\": {\n",
    "                \"_id\": \"$countryISO2\", \"count\": { \"$count\": {}}\n",
    "            }\n",
    "        }\n",
    "    ]\n",
    ")\n",
    "print(\"result type:\", type(result))"
   ]
  },
  {
   "cell_type": "code",
   "execution_count": 12,
   "id": "9048b6a0-bdfb-46fb-8594-7f320377f1f9",
   "metadata": {},
   "outputs": [
    {
     "name": "stdout",
     "output_type": "stream",
     "text": [
      "df_nationality type: <class 'pandas.core.frame.DataFrame'>\n",
      "df_nationality shape (139, 2)\n"
     ]
    },
    {
     "data": {
      "text/html": [
       "<div>\n",
       "<style scoped>\n",
       "    .dataframe tbody tr th:only-of-type {\n",
       "        vertical-align: middle;\n",
       "    }\n",
       "\n",
       "    .dataframe tbody tr th {\n",
       "        vertical-align: top;\n",
       "    }\n",
       "\n",
       "    .dataframe thead th {\n",
       "        text-align: right;\n",
       "    }\n",
       "</style>\n",
       "<table border=\"1\" class=\"dataframe\">\n",
       "  <thead>\n",
       "    <tr style=\"text-align: right;\">\n",
       "      <th></th>\n",
       "      <th>_id</th>\n",
       "      <th>count</th>\n",
       "    </tr>\n",
       "  </thead>\n",
       "  <tbody>\n",
       "    <tr>\n",
       "      <th>0</th>\n",
       "      <td>LS</td>\n",
       "      <td>16</td>\n",
       "    </tr>\n",
       "    <tr>\n",
       "      <th>1</th>\n",
       "      <td>GN</td>\n",
       "      <td>3</td>\n",
       "    </tr>\n",
       "    <tr>\n",
       "      <th>2</th>\n",
       "      <td>MR</td>\n",
       "      <td>1</td>\n",
       "    </tr>\n",
       "    <tr>\n",
       "      <th>3</th>\n",
       "      <td>SL</td>\n",
       "      <td>45</td>\n",
       "    </tr>\n",
       "    <tr>\n",
       "      <th>4</th>\n",
       "      <td>HT</td>\n",
       "      <td>2</td>\n",
       "    </tr>\n",
       "  </tbody>\n",
       "</table>\n",
       "</div>"
      ],
      "text/plain": [
       "  _id  count\n",
       "0  LS     16\n",
       "1  GN      3\n",
       "2  MR      1\n",
       "3  SL     45\n",
       "4  HT      2"
      ]
     },
     "execution_count": 12,
     "metadata": {},
     "output_type": "execute_result"
    }
   ],
   "source": [
    "df_nationality = pd.DataFrame(result)\n",
    "\n",
    "print(\"df_nationality type:\", type(df_nationality))\n",
    "print(\"df_nationality shape\", df_nationality.shape)\n",
    "df_nationality.head()"
   ]
  },
  {
   "cell_type": "code",
   "execution_count": null,
   "id": "c86eae1c-7eab-4cb0-b162-17be8aebbcdf",
   "metadata": {},
   "outputs": [],
   "source": [
    "df_nationality = pd.DataFrame(result)\n",
    "\n",
    "print(\"df_nationality type:\", type(df_nationality))\n",
    "print(\"df_nationality shape\", df_nationality.shape)\n",
    "df_nationality.head()"
   ]
  },
  {
   "cell_type": "code",
   "execution_count": 13,
   "id": "9f1e1dff-5bc4-4b02-8077-60a18dbf3f2a",
   "metadata": {},
   "outputs": [
    {
     "ename": "KeyError",
     "evalue": "'count'",
     "output_type": "error",
     "traceback": [
      "\u001b[31m---------------------------------------------------------------------------\u001b[39m",
      "\u001b[31mKeyError\u001b[39m                                  Traceback (most recent call last)",
      "\u001b[32m/var/folders/k2/_w3g1krs2mq69qmw6mrp7m_c0000gn/T/ipykernel_86433/2005029920.py\u001b[39m in \u001b[36m?\u001b[39m\u001b[34m()\u001b[39m\n\u001b[32m----> \u001b[39m\u001b[32m1\u001b[39m df_nationality = pd.DataFrame(result).rename({\u001b[33m\"_id\"\u001b[39m: \u001b[33m\"country_iso\"\u001b[39m}, axis=\u001b[33m\"columns\"\u001b[39m).sort_values(\u001b[33m\"count\"\u001b[39m)\n\u001b[32m      2\u001b[39m \n\u001b[32m      3\u001b[39m print(\u001b[33m\"df_nationality type:\"\u001b[39m, type(df_nationality))\n\u001b[32m      4\u001b[39m print(\u001b[33m\"df_nationality shape\"\u001b[39m, df_nationality.shape)\n",
      "\u001b[32m~/Library/Caches/pypoetry/virtualenvs/hypothesis-testing-3U8QY8y5-py3.11/lib/python3.11/site-packages/pandas/core/frame.py\u001b[39m in \u001b[36m?\u001b[39m\u001b[34m(self, by, axis, ascending, inplace, kind, na_position, ignore_index, key)\u001b[39m\n\u001b[32m   7192\u001b[39m             )\n\u001b[32m   7193\u001b[39m         \u001b[38;5;28;01melif\u001b[39;00m len(by):\n\u001b[32m   7194\u001b[39m             \u001b[38;5;66;03m# len(by) == 1\u001b[39;00m\n\u001b[32m   7195\u001b[39m \n\u001b[32m-> \u001b[39m\u001b[32m7196\u001b[39m             k = self._get_label_or_level_values(by[\u001b[32m0\u001b[39m], axis=axis)\n\u001b[32m   7197\u001b[39m \n\u001b[32m   7198\u001b[39m             \u001b[38;5;66;03m# need to rewrap column in Series to apply key function\u001b[39;00m\n\u001b[32m   7199\u001b[39m             \u001b[38;5;28;01mif\u001b[39;00m key \u001b[38;5;28;01mis\u001b[39;00m \u001b[38;5;28;01mnot\u001b[39;00m \u001b[38;5;28;01mNone\u001b[39;00m:\n",
      "\u001b[32m~/Library/Caches/pypoetry/virtualenvs/hypothesis-testing-3U8QY8y5-py3.11/lib/python3.11/site-packages/pandas/core/generic.py\u001b[39m in \u001b[36m?\u001b[39m\u001b[34m(self, key, axis)\u001b[39m\n\u001b[32m   1907\u001b[39m             values = self.xs(key, axis=other_axes[\u001b[32m0\u001b[39m])._values\n\u001b[32m   1908\u001b[39m         \u001b[38;5;28;01melif\u001b[39;00m self._is_level_reference(key, axis=axis):\n\u001b[32m   1909\u001b[39m             values = self.axes[axis].get_level_values(key)._values\n\u001b[32m   1910\u001b[39m         \u001b[38;5;28;01melse\u001b[39;00m:\n\u001b[32m-> \u001b[39m\u001b[32m1911\u001b[39m             \u001b[38;5;28;01mraise\u001b[39;00m KeyError(key)\n\u001b[32m   1912\u001b[39m \n\u001b[32m   1913\u001b[39m         \u001b[38;5;66;03m# Check for duplicates\u001b[39;00m\n\u001b[32m   1914\u001b[39m         \u001b[38;5;28;01mif\u001b[39;00m values.ndim > \u001b[32m1\u001b[39m:\n",
      "\u001b[31mKeyError\u001b[39m: 'count'"
     ]
    }
   ],
   "source": [
    "df_nationality = pd.DataFrame(result).rename({\"_id\": \"country_iso\"}, axis=\"columns\").sort_values(\"count\")\n",
    "\n",
    "print(\"df_nationality type:\", type(df_nationality))\n",
    "print(\"df_nationality shape\", df_nationality.shape)\n",
    "df_nationality.head()"
   ]
  },
  {
   "cell_type": "markdown",
   "id": "49aef476-f3b0-4757-855a-564ed1bcdf75",
   "metadata": {},
   "source": [
    "# to solve above problem We need to run ds_app.aggregate() to recharge the cursor into result variable..every time we are trying to pd.DateFrame(result)"
   ]
  },
  {
   "cell_type": "code",
   "execution_count": 15,
   "id": "ff3d85f7-f28b-4058-90c5-e70039005bf6",
   "metadata": {},
   "outputs": [
    {
     "name": "stdout",
     "output_type": "stream",
     "text": [
      "df_nationality type: <class 'pandas.core.frame.DataFrame'>\n",
      "df_nationality shape (139, 2)\n"
     ]
    },
    {
     "data": {
      "text/html": [
       "<div>\n",
       "<style scoped>\n",
       "    .dataframe tbody tr th:only-of-type {\n",
       "        vertical-align: middle;\n",
       "    }\n",
       "\n",
       "    .dataframe tbody tr th {\n",
       "        vertical-align: top;\n",
       "    }\n",
       "\n",
       "    .dataframe thead th {\n",
       "        text-align: right;\n",
       "    }\n",
       "</style>\n",
       "<table border=\"1\" class=\"dataframe\">\n",
       "  <thead>\n",
       "    <tr style=\"text-align: right;\">\n",
       "      <th></th>\n",
       "      <th>country_iso</th>\n",
       "      <th>count</th>\n",
       "    </tr>\n",
       "  </thead>\n",
       "  <tbody>\n",
       "    <tr>\n",
       "      <th>16</th>\n",
       "      <td>TM</td>\n",
       "      <td>1</td>\n",
       "    </tr>\n",
       "    <tr>\n",
       "      <th>62</th>\n",
       "      <td>MK</td>\n",
       "      <td>1</td>\n",
       "    </tr>\n",
       "    <tr>\n",
       "      <th>64</th>\n",
       "      <td>CL</td>\n",
       "      <td>1</td>\n",
       "    </tr>\n",
       "    <tr>\n",
       "      <th>36</th>\n",
       "      <td>IL</td>\n",
       "      <td>1</td>\n",
       "    </tr>\n",
       "    <tr>\n",
       "      <th>37</th>\n",
       "      <td>CY</td>\n",
       "      <td>1</td>\n",
       "    </tr>\n",
       "  </tbody>\n",
       "</table>\n",
       "</div>"
      ],
      "text/plain": [
       "   country_iso  count\n",
       "16          TM      1\n",
       "62          MK      1\n",
       "64          CL      1\n",
       "36          IL      1\n",
       "37          CY      1"
      ]
     },
     "execution_count": 15,
     "metadata": {},
     "output_type": "execute_result"
    }
   ],
   "source": [
    "df_nationality = pd.DataFrame(result).rename({\"_id\": \"country_iso\"}, axis=\"columns\").sort_values(\"count\")\n",
    "\n",
    "print(\"df_nationality type:\", type(df_nationality))\n",
    "print(\"df_nationality shape\", df_nationality.shape)\n",
    "df_nationality.head()"
   ]
  },
  {
   "cell_type": "code",
   "execution_count": null,
   "id": "bfa4d809-1833-4f25-8cbb-64bc9320027e",
   "metadata": {},
   "outputs": [],
   "source": []
  }
 ],
 "metadata": {
  "kernelspec": {
   "display_name": "Python (hypothesis-testing)",
   "language": "python",
   "name": "hypothesis-testing"
  },
  "language_info": {
   "codemirror_mode": {
    "name": "ipython",
    "version": 3
   },
   "file_extension": ".py",
   "mimetype": "text/x-python",
   "name": "python",
   "nbconvert_exporter": "python",
   "pygments_lexer": "ipython3",
   "version": "3.11.8"
  }
 },
 "nbformat": 4,
 "nbformat_minor": 5
}
