{
 "cells": [
  {
   "cell_type": "code",
   "execution_count": 2,
   "id": "7bdf5af6-cb68-418b-ae44-d3fce938abb8",
   "metadata": {},
   "outputs": [],
   "source": [
    "from pprint import PrettyPrinter\n",
    "\n",
    "import pandas as pd\n",
    "import plotly.express as px\n",
    "from country_converter import CountryConverter\n",
    "from IPython.display import VimeoVideo\n",
    "from pymongo import MongoClient"
   ]
  },
  {
   "cell_type": "code",
   "execution_count": 3,
   "id": "ca47521a-a1a7-486e-a398-e03fecdedb4b",
   "metadata": {},
   "outputs": [
    {
     "name": "stdout",
     "output_type": "stream",
     "text": [
      "pp type: <class 'pprint.PrettyPrinter'>\n"
     ]
    }
   ],
   "source": [
    "pp = PrettyPrinter(indent=2)\n",
    "print(\"pp type:\", type(pp))"
   ]
  },
  {
   "cell_type": "code",
   "execution_count": 4,
   "id": "ca378fad-44b3-4af4-8b48-d5cd59d99ed0",
   "metadata": {},
   "outputs": [
    {
     "name": "stdout",
     "output_type": "stream",
     "text": [
      "client type: <class 'pymongo.synchronous.mongo_client.MongoClient'>\n"
     ]
    }
   ],
   "source": [
    "client = MongoClient(host=\"localhost\",port=27017)\n",
    "print(\"client type:\", type(client))"
   ]
  },
  {
   "cell_type": "code",
   "execution_count": null,
   "id": "b571c574-bdab-434f-a42c-2f4b56951f8d",
   "metadata": {},
   "outputs": [],
   "source": [
    "db = client[\"wqu-abtest\"]\n",
    "ds_app = db[\"ds-applicants\"]\n",
    "print(\"ds_app type:\", type(ds_app))"
   ]
  },
  {
   "cell_type": "code",
   "execution_count": null,
   "id": "3dcd92a1-67a1-45fe-969c-1768644205ca",
   "metadata": {},
   "outputs": [],
   "source": [
    "# Count documents in `ds_app`\n",
    "n_documents = ds_app.count_documents({})\n",
    "print(\"Num. documents in 'ds-applicants':\", n_documents)"
   ]
  },
  {
   "cell_type": "code",
   "execution_count": null,
   "id": "83a8681a-df5e-40cc-bc6f-3184dd8e74db",
   "metadata": {},
   "outputs": [],
   "source": []
  },
  {
   "cell_type": "code",
   "execution_count": null,
   "id": "c438e49e-f3a9-4ba0-a343-edf87cafbdb4",
   "metadata": {},
   "outputs": [],
   "source": []
  }
 ],
 "metadata": {
  "kernelspec": {
   "display_name": "Python (hypothesis-testing)",
   "language": "python",
   "name": "hypothesis-testing"
  },
  "language_info": {
   "codemirror_mode": {
    "name": "ipython",
    "version": 3
   },
   "file_extension": ".py",
   "mimetype": "text/x-python",
   "name": "python",
   "nbconvert_exporter": "python",
   "pygments_lexer": "ipython3",
   "version": "3.11.8"
  }
 },
 "nbformat": 4,
 "nbformat_minor": 5
}
