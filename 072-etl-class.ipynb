{
 "cells": [
  {
   "cell_type": "code",
   "execution_count": 1,
   "metadata": {},
   "outputs": [],
   "source": [
    "import random\n",
    "\n",
    "import pandas as pd\n",
    "from pymongo import MongoClient"
   ]
  },
  {
   "cell_type": "code",
   "execution_count": 2,
   "metadata": {},
   "outputs": [
    {
     "name": "stdout",
     "output_type": "stream",
     "text": [
      "client: <class 'pymongo.synchronous.mongo_client.MongoClient'>\n",
      "ds_app: <class 'pymongo.synchronous.collection.Collection'>\n"
     ]
    }
   ],
   "source": [
    "client = MongoClient(host=\"localhost\",port=27017)\n",
    "db = client[\"abtest-db\"]\n",
    "ds_app = db[\"ds-applicants\"]\n",
    "print(\"client:\", type(client))\n",
    "print(\"ds_app:\", type(ds_app))"
   ]
  },
  {
   "cell_type": "markdown",
   "metadata": {},
   "source": [
    "Extract: Developing the Hypothesis"
   ]
  },
  {
   "cell_type": "code",
   "execution_count": 4,
   "metadata": {},
   "outputs": [
    {
     "name": "stdout",
     "output_type": "stream",
     "text": [
      "{'_id': 'complete', 'count': 3717}\n",
      "{'_id': 'incomplete', 'count': 1308}\n",
      "Completed quiz: 3717\n",
      "Did not complete quiz: 1308\n"
     ]
    }
   ],
   "source": [
    "# How many applicants complete admissions quiz?\n",
    "result = ds_app.aggregate(\n",
    "    [\n",
    "        {\n",
    "            \"$group\":{\n",
    "                \"_id\": \"$admissionsQuiz\",\n",
    "                \"count\": { \"$count\": {}}\n",
    "            }\n",
    "        }\n",
    "    ]\n",
    ")\n",
    "\n",
    "for r in result: \n",
    "    if r[\"_id\"] == 'complete':\n",
    "        complete = r[\"count\"]\n",
    "    else :\n",
    "        incomplete = r[\"count\"]\n",
    "    print(r)\n",
    "\n",
    "print(\"Completed quiz:\", complete)\n",
    "print(\"Did not complete quiz:\", incomplete)"
   ]
  },
  {
   "cell_type": "code",
   "execution_count": 5,
   "metadata": {},
   "outputs": [
    {
     "name": "stdout",
     "output_type": "stream",
     "text": [
      "Proportion of users who don't complete admissions quiz: 0.26\n"
     ]
    }
   ],
   "source": [
    "\n",
    "prop_incomplete = incomplete/(complete+incomplete)\n",
    "print(\n",
    "    \"Proportion of users who don't complete admissions quiz:\", round(prop_incomplete, 2)\n",
    ")"
   ]
  },
  {
   "cell_type": "code",
   "execution_count": 6,
   "metadata": {},
   "outputs": [
    {
     "name": "stdout",
     "output_type": "stream",
     "text": [
      "Null Hypothesis: \n",
      "There is no relationship between receiveing an email and completing the admissions quiz.\n",
      "Sending an email to 'no-quiz applicants' does not increase the rate of completion.\n",
      "Alternate Hypothesis: \n",
      "There is a relationship between receiving an email and completing the admissions quiz.\n",
      "Sending an email to 'no-quiz applicants' does increase the rate of completion.\n",
      "\n"
     ]
    }
   ],
   "source": [
    "null_hypothesis = \"\"\"\n",
    "There is no relationship between receiveing an email and completing the admissions quiz.\n",
    "Sending an email to 'no-quiz applicants' does not increase the rate of completion.\"\"\"\n",
    "\n",
    "alternate_hypothesis = \"\"\"\n",
    "There is a relationship between receiving an email and completing the admissions quiz.\n",
    "Sending an email to 'no-quiz applicants' does increase the rate of completion.\n",
    "\"\"\"\n",
    "\n",
    "print(\"Null Hypothesis:\", null_hypothesis)\n",
    "print(\"Alternate Hypothesis:\", alternate_hypothesis)"
   ]
  },
  {
   "cell_type": "code",
   "execution_count": 16,
   "metadata": {},
   "outputs": [],
   "source": [
    "def find_by_date(collection, date_string):\n",
    "    \"\"\"Find records in a PyMongo Collection created on a given date.\n",
    "\n",
    "    Parameters\n",
    "    ----------\n",
    "    collection : pymongo.collection.Collection\n",
    "        Collection in which to search for documents.\n",
    "    date_string : str\n",
    "        Date to query. Format must be '%Y-%m-%d', e.g. '2022-06-28'.\n",
    "\n",
    "    Returns\n",
    "    -------\n",
    "    observations : list\n",
    "        Result of query. List of documents (dictionaries).\n",
    "    \"\"\"\n",
    "    # Convert `date_string` to datetime object\n",
    "    start = pd.to_datetime(date_string, format=\"%Y-%m-%d\")\n",
    "    end = start + pd.DateOffset(days=1)\n",
    "\n",
    "    # Try both string and datetime query to handle both cases\n",
    "    start_str = start.strftime(\"%Y-%m-%dT%H:%M:%S\")\n",
    "    end_str = end.strftime(\"%Y-%m-%dT%H:%M:%S\")\n",
    "\n",
    "    # Build OR query to match both possible types\n",
    "    query = {\n",
    "        \"$and\": [\n",
    "            { \"admissionsQuiz\": \"incomplete\" },\n",
    "            {\n",
    "                \"$or\": [\n",
    "                    { \"createdAt\": { \"$gte\": start, \"$lt\": end } },        # if createdAt is stored as datetime\n",
    "                    { \"createdAt\": { \"$gte\": start_str, \"$lt\": end_str } } # if createdAt is stored as string\n",
    "                ]\n",
    "            }\n",
    "        ]\n",
    "    }\n",
    "\n",
    "    result = collection.find(query)\n",
    "    observations = list(result)\n",
    "\n",
    "    return observations\n"
   ]
  },
  {
   "cell_type": "code",
   "execution_count": 19,
   "metadata": {},
   "outputs": [
    {
     "data": {
      "text/plain": [
       "{'_id': '6525d787953844722c838415',\n",
       " 'createdAt': '2022-05-05 18:39:40',\n",
       " 'firstName': 'Curtis',\n",
       " 'lastName': 'Rogers',\n",
       " 'email': 'curtis.rogers14@microsift.com',\n",
       " 'birthday': '1987-12-04 00:00:00',\n",
       " 'gender': 'male',\n",
       " 'highestDegreeEarned': 'Some College (1-3 years)',\n",
       " 'countryISO2': 'NG',\n",
       " 'admissionsQuiz': 'incomplete'}"
      ]
     },
     "execution_count": 19,
     "metadata": {},
     "output_type": "execute_result"
    }
   ],
   "source": [
    "find_by_date(collection=ds_app,date_string=\"2022-05-04\")[0]"
   ]
  },
  {
   "cell_type": "code",
   "execution_count": 20,
   "metadata": {},
   "outputs": [
    {
     "name": "stdout",
     "output_type": "stream",
     "text": [
      "observations type: <class 'list'>\n",
      "observations len: 43\n"
     ]
    },
    {
     "data": {
      "text/plain": [
       "{'_id': '6525d787953844722c838459',\n",
       " 'createdAt': '2022-05-03 20:28:29',\n",
       " 'firstName': 'Thomas',\n",
       " 'lastName': 'Follmer',\n",
       " 'email': 'thomas.follmer56@gmall.com',\n",
       " 'birthday': '1978-05-12 00:00:00',\n",
       " 'gender': 'male',\n",
       " 'highestDegreeEarned': 'High School or Baccalaureate',\n",
       " 'countryISO2': 'NG',\n",
       " 'admissionsQuiz': 'incomplete'}"
      ]
     },
     "execution_count": 20,
     "metadata": {},
     "output_type": "execute_result"
    }
   ],
   "source": [
    "observations = find_by_date(collection=ds_app, date_string=\"2022-05-02\")\n",
    "\n",
    "print(\"observations type:\", type(observations))\n",
    "print(\"observations len:\", len(observations))\n",
    "observations[0]"
   ]
  },
  {
   "cell_type": "code",
   "execution_count": null,
   "metadata": {},
   "outputs": [],
   "source": []
  }
 ],
 "metadata": {
  "kernelspec": {
   "display_name": "Python (hypothesis-testing)",
   "language": "python",
   "name": "hypothesis-testing"
  },
  "language_info": {
   "codemirror_mode": {
    "name": "ipython",
    "version": 3
   },
   "file_extension": ".py",
   "mimetype": "text/x-python",
   "name": "python",
   "nbconvert_exporter": "python",
   "pygments_lexer": "ipython3",
   "version": "3.11.8"
  }
 },
 "nbformat": 4,
 "nbformat_minor": 4
}
