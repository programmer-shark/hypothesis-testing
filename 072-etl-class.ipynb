{
 "cells": [
  {
   "cell_type": "code",
   "execution_count": 1,
   "metadata": {},
   "outputs": [],
   "source": [
    "import random\n",
    "\n",
    "import pandas as pd\n",
    "from pymongo import MongoClient"
   ]
  },
  {
   "cell_type": "code",
   "execution_count": 2,
   "metadata": {},
   "outputs": [
    {
     "name": "stdout",
     "output_type": "stream",
     "text": [
      "client: <class 'pymongo.synchronous.mongo_client.MongoClient'>\n",
      "ds_app: <class 'pymongo.synchronous.collection.Collection'>\n"
     ]
    }
   ],
   "source": [
    "client = MongoClient(host=\"localhost\",port=27017)\n",
    "db = client[\"abtest-db\"]\n",
    "ds_app = db[\"ds-applicants\"]\n",
    "print(\"client:\", type(client))\n",
    "print(\"ds_app:\", type(ds_app))"
   ]
  },
  {
   "cell_type": "markdown",
   "metadata": {},
   "source": [
    "Extract: Developing the Hypothesis"
   ]
  },
  {
   "cell_type": "code",
   "execution_count": 4,
   "metadata": {},
   "outputs": [
    {
     "name": "stdout",
     "output_type": "stream",
     "text": [
      "{'_id': 'complete', 'count': 3717}\n",
      "{'_id': 'incomplete', 'count': 1308}\n",
      "Completed quiz: 3717\n",
      "Did not complete quiz: 1308\n"
     ]
    }
   ],
   "source": [
    "# How many applicants complete admissions quiz?\n",
    "result = ds_app.aggregate(\n",
    "    [\n",
    "        {\n",
    "            \"$group\":{\n",
    "                \"_id\": \"$admissionsQuiz\",\n",
    "                \"count\": { \"$count\": {}}\n",
    "            }\n",
    "        }\n",
    "    ]\n",
    ")\n",
    "\n",
    "for r in result: \n",
    "    if r[\"_id\"] == 'complete':\n",
    "        complete = r[\"count\"]\n",
    "    else :\n",
    "        incomplete = r[\"count\"]\n",
    "    print(r)\n",
    "\n",
    "print(\"Completed quiz:\", complete)\n",
    "print(\"Did not complete quiz:\", incomplete)"
   ]
  },
  {
   "cell_type": "code",
   "execution_count": 5,
   "metadata": {},
   "outputs": [
    {
     "name": "stdout",
     "output_type": "stream",
     "text": [
      "Proportion of users who don't complete admissions quiz: 0.26\n"
     ]
    }
   ],
   "source": [
    "\n",
    "prop_incomplete = incomplete/(complete+incomplete)\n",
    "print(\n",
    "    \"Proportion of users who don't complete admissions quiz:\", round(prop_incomplete, 2)\n",
    ")"
   ]
  },
  {
   "cell_type": "code",
   "execution_count": 6,
   "metadata": {},
   "outputs": [
    {
     "name": "stdout",
     "output_type": "stream",
     "text": [
      "Null Hypothesis: \n",
      "There is no relationship between receiveing an email and completing the admissions quiz.\n",
      "Sending an email to 'no-quiz applicants' does not increase the rate of completion.\n",
      "Alternate Hypothesis: \n",
      "There is a relationship between receiving an email and completing the admissions quiz.\n",
      "Sending an email to 'no-quiz applicants' does increase the rate of completion.\n",
      "\n"
     ]
    }
   ],
   "source": [
    "null_hypothesis = \"\"\"\n",
    "There is no relationship between receiveing an email and completing the admissions quiz.\n",
    "Sending an email to 'no-quiz applicants' does not increase the rate of completion.\"\"\"\n",
    "\n",
    "alternate_hypothesis = \"\"\"\n",
    "There is a relationship between receiving an email and completing the admissions quiz.\n",
    "Sending an email to 'no-quiz applicants' does increase the rate of completion.\n",
    "\"\"\"\n",
    "\n",
    "print(\"Null Hypothesis:\", null_hypothesis)\n",
    "print(\"Alternate Hypothesis:\", alternate_hypothesis)"
   ]
  },
  {
   "cell_type": "code",
   "execution_count": 16,
   "metadata": {},
   "outputs": [],
   "source": [
    "def find_by_date(collection, date_string):\n",
    "    \"\"\"Find records in a PyMongo Collection created on a given date.\n",
    "\n",
    "    Parameters\n",
    "    ----------\n",
    "    collection : pymongo.collection.Collection\n",
    "        Collection in which to search for documents.\n",
    "    date_string : str\n",
    "        Date to query. Format must be '%Y-%m-%d', e.g. '2022-06-28'.\n",
    "\n",
    "    Returns\n",
    "    -------\n",
    "    observations : list\n",
    "        Result of query. List of documents (dictionaries).\n",
    "    \"\"\"\n",
    "    # Convert `date_string` to datetime object\n",
    "    start = pd.to_datetime(date_string, format=\"%Y-%m-%d\")\n",
    "    end = start + pd.DateOffset(days=1)\n",
    "\n",
    "    # Try both string and datetime query to handle both cases\n",
    "    start_str = start.strftime(\"%Y-%m-%dT%H:%M:%S\")\n",
    "    end_str = end.strftime(\"%Y-%m-%dT%H:%M:%S\")\n",
    "\n",
    "    # Build OR query to match both possible types\n",
    "    query = {\n",
    "        \"$and\": [\n",
    "            { \"admissionsQuiz\": \"incomplete\" },\n",
    "            {\n",
    "                \"$or\": [\n",
    "                    { \"createdAt\": { \"$gte\": start, \"$lt\": end } },        # if createdAt is stored as datetime\n",
    "                    { \"createdAt\": { \"$gte\": start_str, \"$lt\": end_str } } # if createdAt is stored as string\n",
    "                ]\n",
    "            }\n",
    "        ]\n",
    "    }\n",
    "\n",
    "    result = collection.find(query)\n",
    "    observations = list(result)\n",
    "\n",
    "    return observations\n"
   ]
  },
  {
   "cell_type": "code",
   "execution_count": 19,
   "metadata": {},
   "outputs": [
    {
     "data": {
      "text/plain": [
       "{'_id': '6525d787953844722c838415',\n",
       " 'createdAt': '2022-05-05 18:39:40',\n",
       " 'firstName': 'Curtis',\n",
       " 'lastName': 'Rogers',\n",
       " 'email': 'curtis.rogers14@microsift.com',\n",
       " 'birthday': '1987-12-04 00:00:00',\n",
       " 'gender': 'male',\n",
       " 'highestDegreeEarned': 'Some College (1-3 years)',\n",
       " 'countryISO2': 'NG',\n",
       " 'admissionsQuiz': 'incomplete'}"
      ]
     },
     "execution_count": 19,
     "metadata": {},
     "output_type": "execute_result"
    }
   ],
   "source": [
    "find_by_date(collection=ds_app,date_string=\"2022-05-04\")[0]"
   ]
  },
  {
   "cell_type": "code",
   "execution_count": 20,
   "metadata": {},
   "outputs": [
    {
     "name": "stdout",
     "output_type": "stream",
     "text": [
      "observations type: <class 'list'>\n",
      "observations len: 43\n"
     ]
    },
    {
     "data": {
      "text/plain": [
       "{'_id': '6525d787953844722c838459',\n",
       " 'createdAt': '2022-05-03 20:28:29',\n",
       " 'firstName': 'Thomas',\n",
       " 'lastName': 'Follmer',\n",
       " 'email': 'thomas.follmer56@gmall.com',\n",
       " 'birthday': '1978-05-12 00:00:00',\n",
       " 'gender': 'male',\n",
       " 'highestDegreeEarned': 'High School or Baccalaureate',\n",
       " 'countryISO2': 'NG',\n",
       " 'admissionsQuiz': 'incomplete'}"
      ]
     },
     "execution_count": 20,
     "metadata": {},
     "output_type": "execute_result"
    }
   ],
   "source": [
    "observations = find_by_date(collection=ds_app, date_string=\"2022-05-02\")\n",
    "\n",
    "print(\"observations type:\", type(observations))\n",
    "print(\"observations len:\", len(observations))\n",
    "observations[0]"
   ]
  },
  {
   "cell_type": "code",
   "execution_count": 21,
   "metadata": {},
   "outputs": [
    {
     "name": "stdout",
     "output_type": "stream",
     "text": [
      "observations_assigned type: <class 'list'>\n",
      "observations_assigned len: 43\n"
     ]
    },
    {
     "data": {
      "text/plain": [
       "{'_id': '6525d787953844722c8387ad',\n",
       " 'createdAt': '2022-05-03 23:54:20',\n",
       " 'firstName': 'Russell',\n",
       " 'lastName': 'Sell',\n",
       " 'email': 'russell.sell5@microsift.com',\n",
       " 'birthday': '1986-12-04 00:00:00',\n",
       " 'gender': 'male',\n",
       " 'highestDegreeEarned': 'High School or Baccalaureate',\n",
       " 'countryISO2': 'NP',\n",
       " 'admissionsQuiz': 'incomplete',\n",
       " 'inExperiment': True,\n",
       " 'group': 'no email (control)'}"
      ]
     },
     "execution_count": 21,
     "metadata": {},
     "output_type": "execute_result"
    }
   ],
   "source": [
    "def assign_to_groups(observations):\n",
    "    \"\"\"Randomly assigns observations to control and treatment groups.\n",
    "\n",
    "    Parameters\n",
    "    ----------\n",
    "    observations : list or pymongo.cursor.Cursor\n",
    "        List of users to assign to groups.\n",
    "\n",
    "    Returns\n",
    "    -------\n",
    "    observations : list\n",
    "        List of documents from `observations` with two additional keys:\n",
    "        `inExperiment` and `group`.\n",
    "    \"\"\"\n",
    "    # Shuffle `observations`\n",
    "    random.seed(42)\n",
    "    random.shuffle(observations)\n",
    "    # Get index position of item at observations halfway point\n",
    "    idx = len(observations)//2\n",
    "\n",
    "    # Assign first half of observations to control group\n",
    "    for doc in observations[:idx]:\n",
    "        doc[\"inExperiment\"] = True\n",
    "        doc[\"group\"] = \"no email (control)\"\n",
    "\n",
    "    # Assign second half of observations to treatment group      \n",
    "    for doc in observations[idx:]:\n",
    "        doc[\"inExperiment\"] = True\n",
    "        doc[\"group\"] = \"email (treatment)\"\n",
    "    \n",
    "\n",
    "    return observations\n",
    "\n",
    "\n",
    "observations_assigned = assign_to_groups(observations)\n",
    "\n",
    "print(\"observations_assigned type:\", type(observations_assigned))\n",
    "print(\"observations_assigned len:\", len(observations_assigned))\n",
    "observations_assigned[0]"
   ]
  },
  {
   "cell_type": "code",
   "execution_count": 22,
   "metadata": {},
   "outputs": [],
   "source": [
    "def export_treatment_emails(observations_assigned, directory=\".\"):\n",
    "    \"\"\"Creates CSV file with email addresses of observations in treatment group.\n",
    "\n",
    "    CSV file name will include today's date, e.g. `'2022-06-28_ab-test.csv'`,\n",
    "    and a `'tag'` column where every row will be 'ab-test'.\n",
    "\n",
    "    Parameters\n",
    "    ----------\n",
    "    observations_assigned : list\n",
    "        Observations with group assignment.\n",
    "    directory : str, default='.'\n",
    "        Location for saved CSV file.\n",
    "\n",
    "    Returns\n",
    "    -------\n",
    "    None\n",
    "    \"\"\"\n",
    "    # Put `observations_assigned` docs into DataFrame\n",
    "    df = pd.DataFrame(observations_assigned)\n",
    "\n",
    "\n",
    "    # Add `\"tag\"` column\n",
    "    df[\"tag\"] = \"ab-test\"\n",
    "\n",
    "\n",
    "    # Create mask for treatment group only\n",
    "    mask = df[\"group\"] == \"email (treatment)\"\n",
    "\n",
    "\n",
    "    # Create filename with date\n",
    "    date_string = pd.Timestamp.now().strftime(format=\"%Y-%m-%d\")\n",
    "    filename = directory + \"/\" + date_string + \"_ab-test.csv\"\n",
    "\n",
    "    # Save DataFrame to directory (email and tag only)\n",
    "    df[mask][[\"email\",\"tag\"]].to_csv(filename, index=False)\n",
    "\n",
    "\n",
    "export_treatment_emails(observations_assigned=observations_assigned)"
   ]
  },
  {
   "cell_type": "code",
   "execution_count": 23,
   "metadata": {},
   "outputs": [
    {
     "name": "stdout",
     "output_type": "stream",
     "text": [
      "applicant type: <class 'dict'>\n",
      "{'_id': '6525d787953844722c8387ad', 'createdAt': '2022-05-03 23:54:20', 'firstName': 'Russell', 'lastName': 'Sell', 'email': 'russell.sell5@microsift.com', 'birthday': '1986-12-04 00:00:00', 'gender': 'male', 'highestDegreeEarned': 'High School or Baccalaureate', 'countryISO2': 'NP', 'admissionsQuiz': 'incomplete', 'inExperiment': True, 'group': 'no email (control)'}\n",
      "\n",
      "applicant_id type: <class 'str'>\n",
      "6525d787953844722c8387ad\n"
     ]
    }
   ],
   "source": [
    "updated_applicant = observations_assigned[0]\n",
    "applicant_id = updated_applicant[\"_id\"]\n",
    "print(\"applicant type:\", type(updated_applicant))\n",
    "print(updated_applicant)\n",
    "print()\n",
    "print(\"applicant_id type:\", type(applicant_id))\n",
    "print(applicant_id)"
   ]
  },
  {
   "cell_type": "code",
   "execution_count": 24,
   "metadata": {},
   "outputs": [
    {
     "data": {
      "text/plain": [
       "{'_id': '6525d787953844722c8387ad',\n",
       " 'createdAt': '2022-05-03 23:54:20',\n",
       " 'firstName': 'Russell',\n",
       " 'lastName': 'Sell',\n",
       " 'email': 'russell.sell5@microsift.com',\n",
       " 'birthday': '1986-12-04 00:00:00',\n",
       " 'gender': 'male',\n",
       " 'highestDegreeEarned': 'High School or Baccalaureate',\n",
       " 'countryISO2': 'NP',\n",
       " 'admissionsQuiz': 'incomplete'}"
      ]
     },
     "execution_count": 24,
     "metadata": {},
     "output_type": "execute_result"
    }
   ],
   "source": [
    "# Find original record for `applicant_id`\n",
    "ds_app.find_one({\"_id\": applicant_id })"
   ]
  },
  {
   "cell_type": "code",
   "execution_count": 25,
   "metadata": {},
   "outputs": [
    {
     "name": "stdout",
     "output_type": "stream",
     "text": [
      "result type: <class 'pymongo.results.UpdateResult'>\n"
     ]
    }
   ],
   "source": [
    "result = ds_app.update_one(\n",
    "    filter={ \"_id\": applicant_id},\n",
    "    update={\"$set\": updated_applicant}\n",
    ")\n",
    "print(\"result type:\", type(result))"
   ]
  },
  {
   "cell_type": "code",
   "execution_count": 27,
   "metadata": {},
   "outputs": [
    {
     "data": {
      "text/plain": [
       "{'n': 1, 'nModified': 1, 'ok': 1.0, 'updatedExisting': True}"
      ]
     },
     "execution_count": 27,
     "metadata": {},
     "output_type": "execute_result"
    }
   ],
   "source": [
    "# Access methods and attributes using `dir`\n",
    "type(result)\n",
    "dir(result)\n",
    "\n",
    "# Access `raw_result` attribute\n",
    "result.raw_result\n",
    "#result.modified_count\n",
    "#result.matched_count"
   ]
  },
  {
   "cell_type": "code",
   "execution_count": 30,
   "metadata": {},
   "outputs": [],
   "source": [
    "def update_applicants(collection, observations_assigned):\n",
    "    \"\"\"Update applicant documents in collection.\n",
    "\n",
    "    Parameters\n",
    "    ----------\n",
    "    collection : pymongo.collection.Collection\n",
    "        Collection in which documents will be updated.\n",
    "\n",
    "    observations_assigned : list\n",
    "        Documents that will be used to update collection\n",
    "\n",
    "    Returns\n",
    "    -------\n",
    "    transaction_result : dict\n",
    "        Status of update operation, including number of documents\n",
    "        and number of documents modified.\n",
    "    \"\"\"\n",
    "    n =0\n",
    "    n_modified=0\n",
    "    \n",
    "    for doc in observations_assigned: \n",
    "        result = collection.update_one(\n",
    "            filter={\"_id\": doc[\"_id\"]},\n",
    "            update={\"$set\": doc}\n",
    "        )\n",
    "        n+= result.matched_count\n",
    "        n_modified+= result.modified_count\n",
    "    transaction_result = {\"n\": n, \"nModified\": n_modified}\n",
    "    \n",
    "    return transaction_result"
   ]
  },
  {
   "cell_type": "code",
   "execution_count": 31,
   "metadata": {},
   "outputs": [
    {
     "name": "stdout",
     "output_type": "stream",
     "text": [
      "result type: <class 'dict'>\n"
     ]
    },
    {
     "data": {
      "text/plain": [
       "{'n': 43, 'nModified': 0}"
      ]
     },
     "execution_count": 31,
     "metadata": {},
     "output_type": "execute_result"
    }
   ],
   "source": [
    "result = update_applicants(ds_app, observations_assigned)\n",
    "print(\"result type:\", type(result))\n",
    "result"
   ]
  },
  {
   "cell_type": "code",
   "execution_count": 59,
   "metadata": {},
   "outputs": [],
   "source": [
    "class MongoRepository:\n",
    "    \"\"\"Repository class for interacting with MongoDB database.\n",
    "\n",
    "    Parameters\n",
    "    ----------\n",
    "    client : `pymongo.MongoClient`\n",
    "        By default, `MongoClient(host='localhost', port=27017)`.\n",
    "    db : str\n",
    "        By default, `'abtest-db'`.\n",
    "    collection : str\n",
    "        By default, `'ds-applicants'`.\n",
    "\n",
    "    Attributes\n",
    "    ----------\n",
    "    collection : pymongo.collection.Collection\n",
    "        All data will be extracted from and loaded to this collection.\n",
    "    \"\"\"\n",
    "\n",
    "    def __init__(\n",
    "        self,\n",
    "        client=MongoClient(host=\"localhost\",port=27017),\n",
    "        db=\"abtest-db\",\n",
    "        collection=\"ds-applicants\"\n",
    "    ):\n",
    "        self.collection = client[db][collection]\n",
    "\n",
    "    def find_by_date(self, date_string):\n",
    "        \"\"\"Find records in a PyMongo Collection created on a given date.\n",
    "    \n",
    "        Parameters\n",
    "        ----------\n",
    "        collection : pymongo.collection.Collection\n",
    "            Collection in which to search for documents.\n",
    "        date_string : str\n",
    "            Date to query. Format must be '%Y-%m-%d', e.g. '2022-06-28'.\n",
    "    \n",
    "        Returns\n",
    "        -------\n",
    "        observations : list\n",
    "            Result of query. List of documents (dictionaries).\n",
    "        \"\"\"\n",
    "        # Convert `date_string` to datetime object\n",
    "        start = pd.to_datetime(date_string, format=\"%Y-%m-%d\")\n",
    "        end = start + pd.DateOffset(days=1)\n",
    "    \n",
    "        # Try both string and datetime query to handle both cases\n",
    "        start_str = start.strftime(\"%Y-%m-%dT%H:%M:%S\")\n",
    "        end_str = end.strftime(\"%Y-%m-%dT%H:%M:%S\")\n",
    "    \n",
    "        # Build OR query to match both possible types\n",
    "        query = {\n",
    "            \"$and\": [\n",
    "                { \"admissionsQuiz\": \"incomplete\" },\n",
    "                {\n",
    "                    \"$or\": [\n",
    "                        { \"createdAt\": { \"$gte\": start, \"$lt\": end } },        # if createdAt is stored as datetime\n",
    "                        { \"createdAt\": { \"$gte\": start_str, \"$lt\": end_str } } # if createdAt is stored as string\n",
    "                    ]\n",
    "                }\n",
    "            ]\n",
    "        }\n",
    "    \n",
    "        result = self.collection.find(query)\n",
    "        observations = list(result)\n",
    "    \n",
    "        return observations\n",
    "\n",
    "    def update_applicants(self, observations_assigned):\n",
    "        \"\"\"Update applicant documents in collection.\n",
    "    \n",
    "        Parameters\n",
    "        ----------\n",
    "        collection : pymongo.collection.Collection\n",
    "            Collection in which documents will be updated.\n",
    "    \n",
    "        observations_assigned : list\n",
    "            Documents that will be used to update collection\n",
    "    \n",
    "        Returns\n",
    "        -------\n",
    "        transaction_result : dict\n",
    "            Status of update operation, including number of documents\n",
    "            and number of documents modified.\n",
    "        \"\"\"\n",
    "        n =0\n",
    "        n_modified=0\n",
    "        \n",
    "        for doc in observations_assigned: \n",
    "            result = self.collection.update_one(\n",
    "                filter={\"_id\": doc[\"_id\"]},\n",
    "                update={\"$set\": doc}\n",
    "            )\n",
    "            n+= result.matched_count\n",
    "            n_modified+= result.modified_count\n",
    "        transaction_result = {\"n\": n, \"nModified\": n_modified}\n",
    "        \n",
    "        return transaction_result\n",
    "\n",
    "    def assign_to_groups(self,date_string):\n",
    "        \"\"\"Randomly assigns observations to control and treatment groups.\n",
    "\n",
    "        Parameters\n",
    "        ----------\n",
    "        observations : list or pymongo.cursor.Cursor\n",
    "            List of users to assign to groups.\n",
    "\n",
    "        Returns\n",
    "        -------\n",
    "        observations : list\n",
    "            List of documents from `observations` with two additional keys:\n",
    "            `inExperiment` and `group`.\n",
    "        \"\"\"\n",
    "        observations = self.find_by_date(date_string)\n",
    "\n",
    "        # Shuffle `observations`\n",
    "        random.seed(42)\n",
    "        random.shuffle(observations)\n",
    "        # Get index position of item at observations halfway point\n",
    "        idx = len(observations)//2\n",
    "\n",
    "        # Assign first half of observations to control group\n",
    "        for doc in observations[:idx]:\n",
    "            doc[\"inExperiment\"] = True\n",
    "            doc[\"group\"] = \"no email (control)\"\n",
    "\n",
    "        # Assign second half of observations to treatment group      \n",
    "        for doc in observations[idx:]:\n",
    "            doc[\"inExperiment\"] = True\n",
    "            doc[\"group\"] = \"email (treatment)\"\n",
    "        \n",
    "        result = self.update_applicants(observations);\n",
    "\n",
    "        return result"
   ]
  },
  {
   "cell_type": "code",
   "execution_count": 60,
   "metadata": {},
   "outputs": [
    {
     "name": "stdout",
     "output_type": "stream",
     "text": [
      "repo type: <class '__main__.MongoRepository'>\n"
     ]
    },
    {
     "data": {
      "text/plain": [
       "<__main__.MongoRepository at 0x13445ffd0>"
      ]
     },
     "execution_count": 60,
     "metadata": {},
     "output_type": "execute_result"
    }
   ],
   "source": [
    "repo = MongoRepository()\n",
    "print(\"repo type:\", type(repo))\n",
    "repo"
   ]
  },
  {
   "cell_type": "code",
   "execution_count": 61,
   "metadata": {},
   "outputs": [
    {
     "name": "stdout",
     "output_type": "stream",
     "text": [
      "c_test type: <class 'pymongo.synchronous.collection.Collection'>\n"
     ]
    },
    {
     "data": {
      "text/plain": [
       "Collection(Database(MongoClient(host=['localhost:27017'], document_class=dict, tz_aware=False, connect=True), 'abtest-db'), 'ds-applicants')"
      ]
     },
     "execution_count": 61,
     "metadata": {},
     "output_type": "execute_result"
    }
   ],
   "source": [
    "c_test = repo.collection\n",
    "print(\"c_test type:\", type(c_test))\n",
    "c_test"
   ]
  },
  {
   "cell_type": "code",
   "execution_count": 62,
   "metadata": {},
   "outputs": [
    {
     "name": "stdout",
     "output_type": "stream",
     "text": [
      "may_15_users type <class 'list'>\n",
      "may_15_users len 47\n"
     ]
    },
    {
     "data": {
      "text/plain": [
       "[{'_id': '6525d787953844722c838415',\n",
       "  'createdAt': '2022-05-05 18:39:40',\n",
       "  'firstName': 'Curtis',\n",
       "  'lastName': 'Rogers',\n",
       "  'email': 'curtis.rogers14@microsift.com',\n",
       "  'birthday': '1987-12-04 00:00:00',\n",
       "  'gender': 'male',\n",
       "  'highestDegreeEarned': 'Some College (1-3 years)',\n",
       "  'countryISO2': 'NG',\n",
       "  'admissionsQuiz': 'incomplete'},\n",
       " {'_id': '6525d787953844722c838453',\n",
       "  'createdAt': '2022-05-05 11:43:18',\n",
       "  'firstName': 'Gilbert',\n",
       "  'lastName': 'Gomez',\n",
       "  'email': 'gilbert.gomez49@microsift.com',\n",
       "  'birthday': '1994-02-07 00:00:00',\n",
       "  'gender': 'male',\n",
       "  'highestDegreeEarned': 'Some College (1-3 years)',\n",
       "  'countryISO2': 'PK',\n",
       "  'admissionsQuiz': 'incomplete'},\n",
       " {'_id': '6525d787953844722c83848e',\n",
       "  'createdAt': '2022-05-05 12:11:58',\n",
       "  'firstName': 'Tommy',\n",
       "  'lastName': 'Kohler',\n",
       "  'email': 'tommy.kohler32@microsift.com',\n",
       "  'birthday': '1999-03-04 00:00:00',\n",
       "  'gender': 'male',\n",
       "  'highestDegreeEarned': \"Master's degree\",\n",
       "  'countryISO2': 'LK',\n",
       "  'admissionsQuiz': 'incomplete'}]"
      ]
     },
     "execution_count": 62,
     "metadata": {},
     "output_type": "execute_result"
    }
   ],
   "source": [
    "may_15_users = repo.find_by_date(date_string=\"2022-05-04\")\n",
    "print(\"may_15_users type\", type(may_15_users))\n",
    "print(\"may_15_users len\", len(may_15_users))\n",
    "may_15_users[:3]"
   ]
  },
  {
   "cell_type": "code",
   "execution_count": 63,
   "metadata": {},
   "outputs": [
    {
     "name": "stdout",
     "output_type": "stream",
     "text": [
      "result type: <class 'dict'>\n"
     ]
    },
    {
     "data": {
      "text/plain": [
       "{'n': 43, 'nModified': 0}"
      ]
     },
     "execution_count": 63,
     "metadata": {},
     "output_type": "execute_result"
    }
   ],
   "source": [
    "result = repo.update_applicants(observations_assigned)\n",
    "print(\"result type:\", type(result))\n",
    "result"
   ]
  },
  {
   "cell_type": "code",
   "execution_count": 64,
   "metadata": {},
   "outputs": [
    {
     "name": "stdout",
     "output_type": "stream",
     "text": [
      "result type: <class 'dict'>\n"
     ]
    },
    {
     "data": {
      "text/plain": [
       "{'n': 38, 'nModified': 38}"
      ]
     },
     "execution_count": 64,
     "metadata": {},
     "output_type": "execute_result"
    }
   ],
   "source": [
    "result = repo.assign_to_groups(date_string=\"2022-05-15\")\n",
    "print(\"result type:\", type(result))\n",
    "result"
   ]
  },
  {
   "cell_type": "code",
   "execution_count": 65,
   "metadata": {},
   "outputs": [
    {
     "data": {
      "text/plain": [
       "{'n': 42, 'nModified': 42}"
      ]
     },
     "execution_count": 65,
     "metadata": {},
     "output_type": "execute_result"
    }
   ],
   "source": [
    "repo_test = MongoRepository()\n",
    "repo_test.assign_to_groups(\"2022-05-16\")"
   ]
  },
  {
   "cell_type": "code",
   "execution_count": null,
   "metadata": {},
   "outputs": [],
   "source": []
  }
 ],
 "metadata": {
  "kernelspec": {
   "display_name": "Python (hypothesis-testing-kernel)",
   "language": "python",
   "name": "hypothesis-testing"
  },
  "language_info": {
   "codemirror_mode": {
    "name": "ipython",
    "version": 3
   },
   "file_extension": ".py",
   "mimetype": "text/x-python",
   "name": "python",
   "nbconvert_exporter": "python",
   "pygments_lexer": "ipython3",
   "version": "3.11.8"
  }
 },
 "nbformat": 4,
 "nbformat_minor": 4
}
